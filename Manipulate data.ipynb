{
  "cells": [
    {
      "id": "fb1e0e41-cff9-4aa7-92d6-f6b25d595b29",
      "cell_type": "markdown",
      "source": [
        "# Manipulate data\n",
        "In this notebook the reference data and the user data are manipulated"
      ],
      "metadata": {},
      "attachments": {}
    },
    {
      "id": "99199f9c-81f7-4663-990d-354d58617988",
      "cell_type": "code",
      "execution_count": 1,
      "outputs": [],
      "source": [
        "from countryguess.data import Dataset, TestDataset\n",
        "from countryguess.plotting import plot_sample, plot_ref_sample"
      ],
      "metadata": {}
    },
    {
      "id": "23a1a530-9176-4f5e-99f3-ee736c1f9935",
      "cell_type": "markdown",
      "source": [
        "## Adjust reference data\n",
        "I used the following dataset <br>https://public.opendatasoft.com/explore/dataset/world-administrative-boundaries/information/<br> for the country reference shapes. The cells below modify the orginal datasets to fit the Country Guess App."
      ],
      "metadata": {
        "jp-MarkdownHeadingCollapsed": true
      },
      "attachments": {}
    },
    {
      "id": "a739ab27-0971-4687-a8ac-d34bf524c84b",
      "cell_type": "code",
      "execution_count": 78,
      "outputs": [],
      "source": [
        "# Imports\n",
        "import geopandas as gpd\n",
        "from shapely import Polygon, MultiPolygon\n",
        "from pyproj import Proj, Transformer \n",
        "from shapely.ops import transform\n",
        "from pathlib import Path"
      ],
      "metadata": {}
    },
    {
      "id": "e5813a1b-2bb1-43f1-8b0c-25517f144ac4",
      "cell_type": "code",
      "execution_count": null,
      "outputs": [],
      "source": [
        "# Original data\n",
        "ref_gdf = gpd.read_file('./world-administrative-boundaries.geojson')"
      ],
      "metadata": {}
    },
    {
      "id": "6864bdec-b44f-464b-b347-7b108d571919",
      "cell_type": "markdown",
      "source": [
        "### DONE: Change map projection\n",
        "The projection used in the reference dataset seems to be the equirectangular projection. This leads to deformed country shapes, especially around the poles."
      ],
      "metadata": {
        "jp-MarkdownHeadingCollapsed": true
      },
      "attachments": {}
    },
    {
      "id": "f162dff5-4929-4c5e-95c1-58763cd2b19f",
      "cell_type": "code",
      "execution_count": null,
      "outputs": [],
      "source": [
        "def change_projection(polygon):\n",
        "    source_proj = Proj(init='EPSG:4326')  # WGS84 geographic coordinate system\n",
        "    target_proj = Proj(init='EPSG:3857')  # Web Mercator projection\n",
        "    transformer = Transformer.from_proj(source_proj, target_proj)\n",
        "\n",
        "    return transform(transformer.transform, polygon)"
      ],
      "metadata": {}
    },
    {
      "id": "5011108e-3c21-4f85-9313-e65a9a8d68ef",
      "cell_type": "code",
      "execution_count": null,
      "outputs": [],
      "source": [
        "ref_gdf['geometry'] = ref_gdf['geometry'].apply(change_projection)"
      ],
      "metadata": {}
    },
    {
      "id": "63ba4c1e-d843-4e91-a90b-9bc485b26f8e",
      "cell_type": "code",
      "execution_count": null,
      "outputs": [],
      "source": [
        "ref_gdf.to_file('./reference.geojson')"
      ],
      "metadata": {}
    },
    {
      "id": "a9d50519-cc97-4bf8-b567-537ea9c24e65",
      "cell_type": "markdown",
      "source": [
        "### DONE: Merge countries that are split\n",
        "Russia and USA cross the antimeridian which causes problems. Lets translate them to fix this."
      ],
      "metadata": {
        "jp-MarkdownHeadingCollapsed": true
      },
      "attachments": {}
    },
    {
      "id": "5323c9bb-f569-49e7-aa06-e45a7e9947a6",
      "cell_type": "code",
      "execution_count": null,
      "outputs": [],
      "source": [
        "for idx, row in ref_gdf.iterrows():\n",
        "    geom = row[\"geometry\"]\n",
        "    xmin, _, xmax, _ = geom.bounds\n",
        "    width = xmax - xmin\n",
        "    if width > 20000000:\n",
        "        print(row[\"name\"], width)"
      ],
      "metadata": {}
    },
    {
      "id": "72e1bd39-02a4-4215-9a5e-522e78e054d3",
      "cell_type": "code",
      "execution_count": null,
      "outputs": [],
      "source": [
        "from shapely.affinity import translate\n",
        "\n",
        "def merge_split_country(geom):\n",
        "    xmin, _, xmax, _ = geom.bounds\n",
        "    width = xmax - xmin\n",
        "    polygons = []\n",
        "    for poly in geom.geoms:\n",
        "        _, _, maxx, _ = poly.bounds\n",
        "        if maxx < 0:\n",
        "            poly = translate(poly, xoff=width)\n",
        "        polygons.append(poly)\n",
        "\n",
        "    geom = polygons[0]\n",
        "    for poly in polygons[1:]:\n",
        "        geom = geom.union(poly)\n",
        "    return geom"
      ],
      "metadata": {}
    },
    {
      "id": "ce3b0094-320f-44fc-bc72-dc843b91d741",
      "cell_type": "code",
      "execution_count": null,
      "outputs": [],
      "source": [
        "ref_gdf.loc[ref_gdf['name']=='United States of America', 'geometry'] = merge_split_country(ref_gdf.loc[ref_gdf[\"name\"]=='United States of America']['geometry'].item())\n",
        "ref_gdf.loc[ref_gdf['name']=='Russian Federation', 'geometry'] = merge_split_country(ref_gdf.loc[ref_gdf[\"name\"]=='Russian Federation']['geometry'].item())"
      ],
      "metadata": {}
    },
    {
      "id": "a8b2fddd-e490-42a3-8850-9b8ecd520b46",
      "cell_type": "code",
      "execution_count": null,
      "outputs": [],
      "source": [
        "ref_gdf.to_file('./reference.geojson')"
      ],
      "metadata": {}
    },
    {
      "id": "3a70d31c-8900-4e8d-ae79-30912a93e541",
      "cell_type": "markdown",
      "source": [
        "### Done: Filter countries with sparse area\n",
        "Lets filter out the countries wich are extremly sparse, like the Federated States of Micronesia. As these are difficult to draw."
      ],
      "metadata": {
        "jp-MarkdownHeadingCollapsed": true
      },
      "attachments": {}
    },
    {
      "id": "4b3c5c94-f741-4be7-90c1-2d127f86a0dd",
      "cell_type": "code",
      "execution_count": null,
      "outputs": [],
      "source": [
        "def filter_coverage(geom, minimum=0.02):\n",
        "    xmin, ymin, xmax, ymax = geom.bounds\n",
        "    bounding_area = (ymax - ymin) * (xmax - xmin)\n",
        "    coverage = geom.area / bounding_area\n",
        "    return coverage > minimum"
      ],
      "metadata": {}
    },
    {
      "id": "ea67c542-3e7e-4f46-8fec-12082eace230",
      "cell_type": "code",
      "execution_count": null,
      "outputs": [],
      "source": [
        "ref_gdf = ref_gdf[ref_gdf['geometry'].apply(filter_coverage)].reset_index(drop=True)"
      ],
      "metadata": {}
    },
    {
      "id": "b0165de0-17bd-485a-93ad-efe3ee28d6bb",
      "cell_type": "code",
      "execution_count": null,
      "outputs": [],
      "source": [
        "ref_gdf.to_file('./reference.geojson')"
      ],
      "metadata": {}
    },
    {
      "id": "c8880aee-e1f6-493f-a5fc-eefea605efa9",
      "cell_type": "markdown",
      "source": [
        "### DONE: Compose Polygon into MultiPolygon\n",
        "Some counrty geometries are Polygons and some are MultiPolygon. Let's make everything a MultiPolygon."
      ],
      "metadata": {
        "jp-MarkdownHeadingCollapsed": true
      },
      "attachments": {}
    },
    {
      "id": "2ae35ec5-933d-482a-a709-86cfea2558e6",
      "cell_type": "code",
      "execution_count": null,
      "outputs": [],
      "source": [
        "def to_MultiPolygon(geom):\n",
        "    if isinstance(geom, Polygon):\n",
        "        return MultiPolygon([geom])\n",
        "    return geom"
      ],
      "metadata": {}
    },
    {
      "id": "bb0dc692-d5b0-4572-80b2-0cb267d599b1",
      "cell_type": "code",
      "execution_count": null,
      "outputs": [],
      "source": [
        "ref_gdf['geometry'] = ref_gdf['geometry'].apply(to_MultiPolygon)"
      ],
      "metadata": {}
    },
    {
      "id": "b0f73620-df27-4c05-8569-fdb04790e92c",
      "cell_type": "code",
      "execution_count": null,
      "outputs": [],
      "source": [
        "ref_gdf.to_file('./reference.geojson')"
      ],
      "metadata": {}
    },
    {
      "id": "f7346490-84e3-4127-bff6-4934bf0c0a09",
      "cell_type": "markdown",
      "source": [
        "### DONE: Filter countries with very few points\n",
        "Some countries consists of very few points. These are not accurate enough for detecting drawings."
      ],
      "metadata": {
        "jp-MarkdownHeadingCollapsed": true
      },
      "attachments": {}
    },
    {
      "id": "b2406d0f-0bfd-4340-9be1-2669ce3cdf64",
      "cell_type": "code",
      "execution_count": null,
      "outputs": [],
      "source": [
        "def filter_few_points(geom, minimum=25):\n",
        "    if isinstance(geom, Polygon):\n",
        "        points = len(geom.exterior.coords)\n",
        "    if isinstance(geom, MultiPolygon):\n",
        "        points = sum([len(poly.exterior.coords) for poly in geom.geoms])\n",
        "    return points > minimum"
      ],
      "metadata": {}
    },
    {
      "id": "290e10b9-1604-4e8e-b2ea-4b4bcdabe370",
      "cell_type": "code",
      "execution_count": null,
      "outputs": [],
      "source": [
        "ref_gdf = ref_gdf[ref_gdf['geometry'].apply(filter_few_points)].reset_index(drop=True)"
      ],
      "metadata": {}
    },
    {
      "id": "2716b08f-b87b-4855-911e-ce0d8b4701c1",
      "cell_type": "code",
      "execution_count": null,
      "outputs": [],
      "source": [
        "ref_gdf.to_file('./reference.geojson')"
      ],
      "metadata": {}
    },
    {
      "id": "c35d6b8d-25e3-4d81-88b0-23cce3e15f45",
      "cell_type": "markdown",
      "source": [
        "### DONE: Adjust columns\n",
        "Lets rename and drop some columns."
      ],
      "metadata": {},
      "attachments": {}
    },
    {
      "id": "5d37f031-a2f7-4cfc-b4bb-a999eabd9520",
      "cell_type": "code",
      "execution_count": null,
      "outputs": [],
      "source": [
        "ref_gdf = ref_gdf.drop(columns=['geo_point_2d', 'iso3', 'color_code', 'iso_3166_1_alpha_2_codes', 'french_short'])\n",
        "ref_gdf.rename(columns={'name': 'country_name'}, inplace=True)"
      ],
      "metadata": {}
    },
    {
      "id": "092c7b85-e810-44b6-ad7e-23a4fe81b144",
      "cell_type": "code",
      "execution_count": null,
      "outputs": [],
      "source": [
        "ref_gdf.to_file('./reference.geojson')"
      ],
      "metadata": {}
    },
    {
      "id": "e355dc00-550b-4acd-9096-3f4866b592ca",
      "cell_type": "markdown",
      "source": [
        "### DONE: Decompose single file\n",
        "All the reference shapes are in a single geojson file. This limits git in version control of the data. \n",
        "<br>Let's decompose the single geojson file into one file for each reference country."
      ],
      "metadata": {},
      "attachments": {}
    },
    {
      "id": "0ab24a4e-0f12-4ced-924c-62dcfd1cc1fc",
      "cell_type": "code",
      "execution_count": null,
      "outputs": [],
      "source": [
        "def decompose_ref_geojson(file='./reference.geojson', output_dir='./data/reference/'):\n",
        "    # Create output directory if it doesn't exist\n",
        "    Path(output_dir).mkdir(parents=True, exist_ok=True)\n",
        "    \n",
        "    ref_gdf = gpd.read_file(file)\n",
        "    files = set()\n",
        "\n",
        "    # Process each country\n",
        "    for idx, row in ref_gdf.iterrows():\n",
        "        # Create a clean filename from country name\n",
        "        country_name = row['country_name']\n",
        "        filename = country_name.lower().replace(' ', '_') + '.geojson'\n",
        "\n",
        "        # Make sure no duplicate filenames \n",
        "        assert filename not in files\n",
        "        files.add(filename)\n",
        "\n",
        "        single_gdf = gpd.GeoDataFrame([row], columns=ref_gdf.columns, crs=ref_gdf.crs)\n",
        "        \n",
        "        # Save to file\n",
        "        single_gdf.to_file(Path(output_dir) / filename, driver=\"GeoJSON\")"
      ],
      "metadata": {}
    },
    {
      "id": "9e1dbb18-36c8-4ab2-a41c-c5b4a9bf5d3a",
      "cell_type": "code",
      "execution_count": null,
      "outputs": [],
      "source": [
        "decompose_ref_geojson('./reference.geojson', './data/reference/')"
      ],
      "metadata": {}
    },
    {
      "id": "6ab807f7-5ffe-4491-8770-067c337e1002",
      "cell_type": "markdown",
      "source": [
        "### DONE: Rename some countries\n",
        "Some countries do not have user friendly names, lets adjust those."
      ],
      "metadata": {},
      "attachments": {}
    },
    {
      "id": "02459c1f-440e-4937-9162-51dc21ead062",
      "cell_type": "code",
      "execution_count": 76,
      "outputs": [],
      "source": [
        "new_country_name = {\n",
        "    'U.K. of Great Britain and Northern Ireland': 'United Kingdom',\n",
        "    'Falkland Islands (Malvinas)': 'Falkland Islands',\n",
        "    'Iran (Islamic Republic of)': 'Iran',\n",
        "    \"Democratic People's Republic of Korea\": 'North Korea',\n",
        "    'Democratic Republic of the Congo': 'DR Congo',\n",
        "    \"Lao People's Democratic Republic\": 'Laos',\n",
        "    'Libyan Arab Jamahiriya': 'Libya',\n",
        "    'Moldova, Republic of': 'Moldova',\n",
        "    'Republic of Korea': 'South Korea',\n",
        "    'Russian Federation': 'Russia',\n",
        "    'Syrian Arab Republic': 'Syria',\n",
        "    'The former Yugoslav Republic of Macedonia': 'North Macedonia',\n",
        "    'United Republic of Tanzania': 'Tanzania',\n",
        "    'Svalbard and Jan Mayen Islands': 'Svalbard',\n",
        "    'Brunei Darussalam': 'Brunei',\n",
        "    'Swaziland': 'Eswatini' #TODO\n",
        "}"
      ],
      "metadata": {}
    },
    {
      "id": "fc0718c5-98dd-43f8-b9e6-e4bed5a115a9",
      "cell_type": "code",
      "execution_count": 79,
      "outputs": [
        {
          "output_type": "stream",
          "name": "stdout",
          "text": [
            "Updated: Swaziland -> Eswatini\nRenamed file: swaziland.geojson -> eswatini.geojson\n"
          ]
        }
      ],
      "source": [
        "files = Path(\"./data/reference/\").glob(\"*.geojson\")\n",
        "\n",
        "for file in files:\n",
        "    gdf = gpd.read_file(file)\n",
        "    country_name = gdf[\"country_name\"].item()\n",
        "    \n",
        "    if country_name in new_country_name:\n",
        "        new_name = new_country_name[country_name]\n",
        "        new_filename = f\"{new_name.lower().replace(' ', '_')}.geojson\"\n",
        "\n",
        "        gdf[\"country_name\"] = new_name\n",
        "        \n",
        "        # Save to file\n",
        "        gdf.to_file(Path(\"./data/reference/\") / new_filename, driver=\"GeoJSON\")\n",
        "\n",
        "        # Remove old file\n",
        "        file.unlink()\n",
        "\n",
        "        print(f\"Updated: {country_name} -> {new_name}\")\n",
        "        print(f\"Renamed file: {file.name} -> {new_filename}\")"
      ],
      "metadata": {}
    },
    {
      "id": "e5d6422e-66ef-44d5-8671-8bf550ece694",
      "cell_type": "markdown",
      "source": [
        "### DONE: Remove some territories\n",
        "The dataset includes many countries and territories. <br>\n",
        "Lets focus on the better known countries and territories."
      ],
      "metadata": {},
      "attachments": {}
    },
    {
      "id": "dcb1579d-8720-4970-b035-23c7c7e08022",
      "cell_type": "code",
      "execution_count": null,
      "outputs": [],
      "source": [
        "remove_countries = {\"Aksai Chin\", \"Arunachal Pradesh\", \"Hala'ib Triangle\", \"Ilemi Triangle\", \"Jammu-Kashmir\", \"Kuril Islands\"}"
      ],
      "metadata": {}
    },
    {
      "id": "3820ba12-439a-46e4-868a-0a52abf3d2c6",
      "cell_type": "code",
      "execution_count": null,
      "outputs": [],
      "source": [
        "files = Path(\"./data/reference/\").glob(\"*.geojson\")\n",
        "\n",
        "for file in files:\n",
        "    gdf = gpd.read_file(file)\n",
        "    country_name = gdf[\"country_name\"].item()\n",
        "    \n",
        "    if country_name in remove_countries:\n",
        "        # Remove country\n",
        "        file.unlink()\n",
        "\n",
        "        print(f\"Removed: {country_name}\")"
      ],
      "metadata": {}
    },
    {
      "id": "b3618147-c9ef-4efa-a315-2c1630cb9c1c",
      "cell_type": "markdown",
      "source": [
        "### DONE: Remove small islands seperated from the mainland\n",
        "Some countries, like Chilem, Australia and Denmark, have a small island that is seperated from the mainland by a large distane. <br>Lets remove these \"outliers\" polygon"
      ],
      "metadata": {},
      "attachments": {}
    },
    {
      "id": "bb11c9c8-e82f-4bfd-ad35-efeeb26b2f4f",
      "cell_type": "code",
      "execution_count": null,
      "outputs": [],
      "source": [
        "def rm_outlier(geom, min_length=0.8, min_area=0.05):\n",
        "    if isinstance(geom, Polygon):\n",
        "        return geom\n",
        "\n",
        "    #Get current geom boundary length \n",
        "    xmin, ymin, xmax, ymax = geom.bounds\n",
        "    geom_length = (xmax - xmin) + (ymax - ymin)\n",
        "        \n",
        "    polygons = [poly for poly in geom.geoms]\n",
        "    new_polygons = []\n",
        "    for idx in range(len(polygons)):\n",
        "        subset = polygons.copy()\n",
        "        poly = subset.pop(idx)\n",
        "        new_geom = MultiPolygon(subset)\n",
        "        xmin, ymin, xmax, ymax = new_geom.bounds\n",
        "        length = (xmax - xmin) + (ymax - ymin)\n",
        "        \n",
        "        #Check if the polygon should be omitted \n",
        "        if (length / geom_length) > min_length or (poly.area / geom.area) > min_area:\n",
        "            new_polygons.append(poly)\n",
        "    \n",
        "    return MultiPolygon(new_polygons)"
      ],
      "metadata": {}
    },
    {
      "id": "fba6703d-f12f-4308-aad4-82f56876cf40",
      "cell_type": "code",
      "execution_count": null,
      "outputs": [],
      "source": [
        "files = Path(\"./data/reference/\").glob(\"*.geojson\")\n",
        "\n",
        "for file in files:\n",
        "    gdf = gpd.read_file(file)\n",
        "    country_name = gdf[\"country_name\"].item()\n",
        "    geom = gdf[\"geometry\"].item()\n",
        "    new_geom = rm_outlier(geom)\n",
        "\n",
        "    if geom!=new_geom:\n",
        "        gdf[\"geometry\"] = new_geom\n",
        "\n",
        "        # Update file\n",
        "        file.unlink()\n",
        "        if new_geom:\n",
        "            print(\"Adjusted:\", country_name)\n",
        "            gdf.to_file(file, driver=\"GeoJSON\")\n",
        "        else:\n",
        "            print(\"Removed:\", country_name)"
      ],
      "metadata": {}
    },
    {
      "id": "d901f88c-c1ff-4752-9742-a88c6e07fb49",
      "cell_type": "markdown",
      "source": [
        "### Reference countries\n",
        "These steps leave us with the following reference countries."
      ],
      "metadata": {},
      "attachments": {}
    },
    {
      "id": "fda054ef-0797-41ff-b71d-f04a1ae19d12",
      "cell_type": "code",
      "execution_count": 2,
      "outputs": [],
      "source": [
        "ref_data = Dataset(shape=(128, 128))"
      ],
      "metadata": {}
    },
    {
      "id": "29fcb2bc-48ac-4618-af71-c69d83ea1a75",
      "cell_type": "code",
      "execution_count": 6,
      "outputs": [],
      "source": [
        "idx=40"
      ],
      "metadata": {}
    },
    {
      "id": "d41bf9fd-6ac2-4c60-b7c3-87d6210c080e",
      "cell_type": "code",
      "execution_count": 185,
      "outputs": [
        {
          "output_type": "stream",
          "name": "stdout",
          "text": [
            "214\n"
          ]
        },
        {
          "output_type": "display_data",
          "data": {
            "text/plain": [
              "<Figure size 1000x500 with 1 Axes>"
            ],
            "image/png": "[encoded data removed]"
          },
          "metadata": {}
        }
      ],
      "source": [
        "print(idx)\n",
        "plot_ref_sample(ref_data, idx=idx)\n",
        "idx += 1"
      ],
      "metadata": {}
    },
    {
      "id": "4fcb9858-8602-47f1-8d5a-ea85a520ded3",
      "cell_type": "markdown",
      "source": [
        "## User drawings"
      ],
      "metadata": {},
      "attachments": {}
    },
    {
      "id": "791c2cb0-a179-4d07-8d2e-8e25b7b50928",
      "cell_type": "code",
      "execution_count": null,
      "outputs": [],
      "source": [
        "test_data = TestDataset(shape=(128, 128))"
      ],
      "metadata": {}
    },
    {
      "id": "f95f1eb5-44c2-4980-8333-8575213d0017",
      "cell_type": "code",
      "execution_count": null,
      "outputs": [],
      "source": [
        "plot_sample(test_data, idx=77)"
      ],
      "metadata": {}
    }
  ],
  "metadata": {
    "kernelspec": {
      "name": "countryguess",
      "display_name": "countryguess",
      "language": "python"
    },
    "language_info": {
      "name": "python",
      "codemirror_mode": {
        "name": "ipython",
        "version": 3
      },
      "file_extension": ".py",
      "mimetype": "text/x-python",
      "pygments_lexer": "ipython3"
    }
  },
  "nbformat": 4,
  "nbformat_minor": 5
}