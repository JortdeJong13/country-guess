{
 "cells": [
  {
   "cell_type": "markdown",
   "id": "fb1e0e41-cff9-4aa7-92d6-f6b25d595b29",
   "metadata": {},
   "source": [
    "# Manipulate data\n",
    "In this notebook the reference data and the user data are manipulated"
   ]
  },
  {
   "cell_type": "code",
   "execution_count": 1,
   "id": "b6eeac7f-99a7-4d3f-b225-854c00cf7cfd",
   "metadata": {},
   "outputs": [],
   "source": [
    "#Imports\n",
    "import json\n",
    "import geopandas as gpd\n",
    "from shapely import Polygon, MultiPolygon, LineString"
   ]
  },
  {
   "cell_type": "markdown",
   "id": "23a1a530-9176-4f5e-99f3-ee736c1f9935",
   "metadata": {
    "jp-MarkdownHeadingCollapsed": true
   },
   "source": [
    "## Reference countries\n",
    "I used the following dataset <br>https://public.opendatasoft.com/explore/dataset/country_shapes/information/?location=2,-32.99024,1.40625&basemap=jawg.light<br> for the country reference shapes. The cells below contain the modification made to the data. "
   ]
  },
  {
   "cell_type": "code",
   "execution_count": 63,
   "id": "e5813a1b-2bb1-43f1-8b0c-25517f144ac4",
   "metadata": {},
   "outputs": [
    {
     "data": {
      "text/html": [
       "<div>\n",
       "<style scoped>\n",
       "    .dataframe tbody tr th:only-of-type {\n",
       "        vertical-align: middle;\n",
       "    }\n",
       "\n",
       "    .dataframe tbody tr th {\n",
       "        vertical-align: top;\n",
       "    }\n",
       "\n",
       "    .dataframe thead th {\n",
       "        text-align: right;\n",
       "    }\n",
       "</style>\n",
       "<table border=\"1\" class=\"dataframe\">\n",
       "  <thead>\n",
       "    <tr style=\"text-align: right;\">\n",
       "      <th></th>\n",
       "      <th>geo_point_2d</th>\n",
       "      <th>cntry_name</th>\n",
       "      <th>join_name</th>\n",
       "      <th>iso2_2</th>\n",
       "      <th>iso_a2</th>\n",
       "      <th>iso2</th>\n",
       "      <th>cou_iso3_code</th>\n",
       "      <th>iso3</th>\n",
       "      <th>geometry</th>\n",
       "    </tr>\n",
       "  </thead>\n",
       "  <tbody>\n",
       "    <tr>\n",
       "      <th>0</th>\n",
       "      <td>{'lon': 90.4294341107, 'lat': 27.4154148028}</td>\n",
       "      <td>Bhutan</td>\n",
       "      <td>Bhutan</td>\n",
       "      <td>None</td>\n",
       "      <td>BT</td>\n",
       "      <td>BT</td>\n",
       "      <td>BTN</td>\n",
       "      <td>BTN</td>\n",
       "      <td>MULTIPOLYGON (((10250467.07754 3107120.18973, ...</td>\n",
       "    </tr>\n",
       "    <tr>\n",
       "      <th>1</th>\n",
       "      <td>{'lon': 15.2242938734, 'lat': -0.84023182197}</td>\n",
       "      <td>Congo</td>\n",
       "      <td>Congo</td>\n",
       "      <td>None</td>\n",
       "      <td>CG</td>\n",
       "      <td>CG</td>\n",
       "      <td>COG</td>\n",
       "      <td>COG</td>\n",
       "      <td>MULTIPOLYGON (((1768922.90691 -439280.67077, 1...</td>\n",
       "    </tr>\n",
       "    <tr>\n",
       "      <th>2</th>\n",
       "      <td>{'lon': -73.0732149222, 'lat': 3.90074916277}</td>\n",
       "      <td>Colombia</td>\n",
       "      <td>Colombia</td>\n",
       "      <td>None</td>\n",
       "      <td>CO</td>\n",
       "      <td>CO</td>\n",
       "      <td>COL</td>\n",
       "      <td>COL</td>\n",
       "      <td>MULTIPOLYGON (((-9096256.06023 1401556.49661, ...</td>\n",
       "    </tr>\n",
       "    <tr>\n",
       "      <th>3</th>\n",
       "      <td>{'lon': 20.4828261146, 'lat': 6.57134077717}</td>\n",
       "      <td>Central African Republic</td>\n",
       "      <td>Central African Rep.</td>\n",
       "      <td>None</td>\n",
       "      <td>CF</td>\n",
       "      <td>CF</td>\n",
       "      <td>CAF</td>\n",
       "      <td>CAF</td>\n",
       "      <td>MULTIPOLYGON (((2276851.41869 504109.86050, 22...</td>\n",
       "    </tr>\n",
       "    <tr>\n",
       "      <th>4</th>\n",
       "      <td>{'lon': -86.6191633126, 'lat': 14.8190073151}</td>\n",
       "      <td>Honduras</td>\n",
       "      <td>Honduras</td>\n",
       "      <td>None</td>\n",
       "      <td>HN</td>\n",
       "      <td>HN</td>\n",
       "      <td>HND</td>\n",
       "      <td>HND</td>\n",
       "      <td>MULTIPOLYGON (((-9643237.73604 1836043.44283, ...</td>\n",
       "    </tr>\n",
       "    <tr>\n",
       "      <th>...</th>\n",
       "      <td>...</td>\n",
       "      <td>...</td>\n",
       "      <td>...</td>\n",
       "      <td>...</td>\n",
       "      <td>...</td>\n",
       "      <td>...</td>\n",
       "      <td>...</td>\n",
       "      <td>...</td>\n",
       "      <td>...</td>\n",
       "    </tr>\n",
       "    <tr>\n",
       "      <th>192</th>\n",
       "      <td>{'lon': -61.5367445054, 'lat': 16.2034605638}</td>\n",
       "      <td>Guadeloupe</td>\n",
       "      <td>Guadeloupe</td>\n",
       "      <td>GP</td>\n",
       "      <td>None</td>\n",
       "      <td>GP</td>\n",
       "      <td>GLP</td>\n",
       "      <td>GLP</td>\n",
       "      <td>MULTIPOLYGON (((-6850809.64391 1838359.79222, ...</td>\n",
       "    </tr>\n",
       "    <tr>\n",
       "      <th>193</th>\n",
       "      <td>{'lon': 103.763291015, 'lat': 18.5027427532}</td>\n",
       "      <td>Laos</td>\n",
       "      <td>Lao PDR</td>\n",
       "      <td>None</td>\n",
       "      <td>None</td>\n",
       "      <td>NA</td>\n",
       "      <td>NA</td>\n",
       "      <td>NA</td>\n",
       "      <td>MULTIPOLYGON (((11605835.72359 2024400.51495, ...</td>\n",
       "    </tr>\n",
       "    <tr>\n",
       "      <th>194</th>\n",
       "      <td>{'lon': 18.0232871897, 'lat': 27.043953931}</td>\n",
       "      <td>Libya</td>\n",
       "      <td>Libya</td>\n",
       "      <td>None</td>\n",
       "      <td>LY</td>\n",
       "      <td>LY</td>\n",
       "      <td>LBY</td>\n",
       "      <td>LBY</td>\n",
       "      <td>MULTIPOLYGON (((2783124.00718 3206969.72047, 2...</td>\n",
       "    </tr>\n",
       "    <tr>\n",
       "      <th>195</th>\n",
       "      <td>{'lon': 54.3350646496, 'lat': 23.9104341342}</td>\n",
       "      <td>United Arab Emirates</td>\n",
       "      <td>United Arab Emirates</td>\n",
       "      <td>None</td>\n",
       "      <td>AE</td>\n",
       "      <td>AE</td>\n",
       "      <td>ARE</td>\n",
       "      <td>ARE</td>\n",
       "      <td>MULTIPOLYGON (((6265113.46258 2858223.99670, 6...</td>\n",
       "    </tr>\n",
       "    <tr>\n",
       "      <th>196</th>\n",
       "      <td>{'lon': 27.7982494285, 'lat': -13.4530183398}</td>\n",
       "      <td>Zambia</td>\n",
       "      <td>Zambia</td>\n",
       "      <td>None</td>\n",
       "      <td>ZM</td>\n",
       "      <td>ZM</td>\n",
       "      <td>ZMB</td>\n",
       "      <td>ZMB</td>\n",
       "      <td>MULTIPOLYGON (((3363297.61322 -1687093.08214, ...</td>\n",
       "    </tr>\n",
       "  </tbody>\n",
       "</table>\n",
       "<p>197 rows × 9 columns</p>\n",
       "</div>"
      ],
      "text/plain": [
       "                                      geo_point_2d                cntry_name  \\\n",
       "0     {'lon': 90.4294341107, 'lat': 27.4154148028}                    Bhutan   \n",
       "1    {'lon': 15.2242938734, 'lat': -0.84023182197}                     Congo   \n",
       "2    {'lon': -73.0732149222, 'lat': 3.90074916277}                  Colombia   \n",
       "3     {'lon': 20.4828261146, 'lat': 6.57134077717}  Central African Republic   \n",
       "4    {'lon': -86.6191633126, 'lat': 14.8190073151}                  Honduras   \n",
       "..                                             ...                       ...   \n",
       "192  {'lon': -61.5367445054, 'lat': 16.2034605638}                Guadeloupe   \n",
       "193   {'lon': 103.763291015, 'lat': 18.5027427532}                      Laos   \n",
       "194    {'lon': 18.0232871897, 'lat': 27.043953931}                     Libya   \n",
       "195   {'lon': 54.3350646496, 'lat': 23.9104341342}      United Arab Emirates   \n",
       "196  {'lon': 27.7982494285, 'lat': -13.4530183398}                    Zambia   \n",
       "\n",
       "                join_name iso2_2 iso_a2 iso2 cou_iso3_code iso3  \\\n",
       "0                  Bhutan   None     BT   BT           BTN  BTN   \n",
       "1                   Congo   None     CG   CG           COG  COG   \n",
       "2                Colombia   None     CO   CO           COL  COL   \n",
       "3    Central African Rep.   None     CF   CF           CAF  CAF   \n",
       "4                Honduras   None     HN   HN           HND  HND   \n",
       "..                    ...    ...    ...  ...           ...  ...   \n",
       "192            Guadeloupe     GP   None   GP           GLP  GLP   \n",
       "193               Lao PDR   None   None   NA            NA   NA   \n",
       "194                 Libya   None     LY   LY           LBY  LBY   \n",
       "195  United Arab Emirates   None     AE   AE           ARE  ARE   \n",
       "196                Zambia   None     ZM   ZM           ZMB  ZMB   \n",
       "\n",
       "                                              geometry  \n",
       "0    MULTIPOLYGON (((10250467.07754 3107120.18973, ...  \n",
       "1    MULTIPOLYGON (((1768922.90691 -439280.67077, 1...  \n",
       "2    MULTIPOLYGON (((-9096256.06023 1401556.49661, ...  \n",
       "3    MULTIPOLYGON (((2276851.41869 504109.86050, 22...  \n",
       "4    MULTIPOLYGON (((-9643237.73604 1836043.44283, ...  \n",
       "..                                                 ...  \n",
       "192  MULTIPOLYGON (((-6850809.64391 1838359.79222, ...  \n",
       "193  MULTIPOLYGON (((11605835.72359 2024400.51495, ...  \n",
       "194  MULTIPOLYGON (((2783124.00718 3206969.72047, 2...  \n",
       "195  MULTIPOLYGON (((6265113.46258 2858223.99670, 6...  \n",
       "196  MULTIPOLYGON (((3363297.61322 -1687093.08214, ...  \n",
       "\n",
       "[197 rows x 9 columns]"
      ]
     },
     "execution_count": 63,
     "metadata": {},
     "output_type": "execute_result"
    }
   ],
   "source": [
    "ref_gdf = gpd.read_file('./data/reference.geojson')\n",
    "ref_gdf"
   ]
  },
  {
   "cell_type": "markdown",
   "id": "e7b39b10-6bbb-4ab4-a1ab-65c9df14e1d2",
   "metadata": {
    "jp-MarkdownHeadingCollapsed": true
   },
   "source": [
    "### DONE: Remove small islands seperated from the mainland\n",
    "Some countries, like Chile and Denmark, have a small island that is seperated from the mainland by a large distane. \n",
    "Lets remove these \"outliers\""
   ]
  },
  {
   "cell_type": "code",
   "execution_count": 12,
   "id": "ffc04f58-35e4-4710-b4f2-71ee5616746d",
   "metadata": {},
   "outputs": [],
   "source": [
    "def rm_outlier(geom, min_length=0.8, min_area=0.05):\n",
    "    if isinstance(geom, Polygon):\n",
    "        return geom\n",
    "\n",
    "    #Get current geom boundary length \n",
    "    xmin, ymin, xmax, ymax = geom.bounds\n",
    "    geom_length = (xmax - xmin) + (ymax - ymin)\n",
    "        \n",
    "    polygons = [poly for poly in geom.geoms]\n",
    "    new_polygons = []\n",
    "    for idx in range(len(polygons)):\n",
    "        subset = polygons.copy()\n",
    "        poly = subset.pop(idx)\n",
    "        new_geom = MultiPolygon(subset)\n",
    "        xmin, ymin, xmax, ymax = new_geom.bounds\n",
    "        length = (xmax - xmin) + (ymax - ymin)\n",
    "        #Check if the polygon should be omitted \n",
    "        if (length / geom_length) > min_length or (poly.area / geom.area) > min_area:\n",
    "            new_polygons.append(poly)\n",
    "    \n",
    "    return MultiPolygon(new_polygons)"
   ]
  },
  {
   "cell_type": "code",
   "execution_count": 13,
   "id": "140fd8d1-4ffa-4034-9989-5c7738df895e",
   "metadata": {},
   "outputs": [],
   "source": [
    "ref_gdf['geometry'] = ref_gdf['geometry'].apply(rm_outlier)"
   ]
  },
  {
   "cell_type": "code",
   "execution_count": 14,
   "id": "fd3c7d0e-eefc-43fd-b4a7-3cbc37fece5f",
   "metadata": {},
   "outputs": [],
   "source": [
    "ref_gdf.to_file('./data/reference.geojson')"
   ]
  },
  {
   "cell_type": "markdown",
   "id": "6864bdec-b44f-464b-b347-7b108d571919",
   "metadata": {
    "jp-MarkdownHeadingCollapsed": true
   },
   "source": [
    "### DONE: Change map projection\n",
    "The projection used in the reference dataset seems to be the equirectangular projection. This leads to deformed country shapes, especially around the poles."
   ]
  },
  {
   "cell_type": "code",
   "execution_count": 15,
   "id": "2a3c392b-4b3b-4452-b0b3-5c638d9d530a",
   "metadata": {},
   "outputs": [],
   "source": [
    "ref_gdf = ref_gdf[ref_gdf.cntry_name != 'Antarctica'].reset_index(drop=True)"
   ]
  },
  {
   "cell_type": "code",
   "execution_count": 16,
   "id": "b758ca03-1dfc-4e4d-ba37-333bf2fa30f7",
   "metadata": {},
   "outputs": [],
   "source": [
    "from pyproj import Proj, Transformer \n",
    "from shapely.ops import transform"
   ]
  },
  {
   "cell_type": "code",
   "execution_count": 17,
   "id": "f162dff5-4929-4c5e-95c1-58763cd2b19f",
   "metadata": {},
   "outputs": [],
   "source": [
    "def change_projection(polygon):\n",
    "    source_proj = Proj(init='EPSG:4326')  # WGS84 geographic coordinate system\n",
    "    target_proj = Proj(init='EPSG:3857')  # Web Mercator projection\n",
    "    transformer = Transformer.from_proj(source_proj, target_proj)\n",
    "\n",
    "    return transform(transformer.transform, polygon)"
   ]
  },
  {
   "cell_type": "code",
   "execution_count": null,
   "id": "5011108e-3c21-4f85-9313-e65a9a8d68ef",
   "metadata": {},
   "outputs": [],
   "source": [
    "ref_gdf['geometry'] = ref_gdf['geometry'].apply(change_projection)"
   ]
  },
  {
   "cell_type": "code",
   "execution_count": 19,
   "id": "63ba4c1e-d843-4e91-a90b-9bc485b26f8e",
   "metadata": {},
   "outputs": [],
   "source": [
    "#ref_gdf.to_file('./data/reference.geojson')"
   ]
  },
  {
   "cell_type": "markdown",
   "id": "a9d50519-cc97-4bf8-b567-537ea9c24e65",
   "metadata": {
    "jp-MarkdownHeadingCollapsed": true
   },
   "source": [
    "### DONE: Merge Russia\n",
    "Russia crosses the antimeridian which causes problems. Lets fix this"
   ]
  },
  {
   "cell_type": "code",
   "execution_count": 61,
   "id": "72e1bd39-02a4-4215-9a5e-522e78e054d3",
   "metadata": {},
   "outputs": [],
   "source": [
    "from shapely.affinity import translate\n",
    "\n",
    "\n",
    "def fix_russia(russia):\n",
    "    xmin, _, xmax, _ = russia.bounds\n",
    "    width = xmax - xmin\n",
    "    polygons = []\n",
    "    for poly in russia.geoms:\n",
    "        _, _, maxx, _ = poly.bounds\n",
    "        if maxx < 0:\n",
    "            poly = translate(poly, xoff=width)\n",
    "        polygons.append(poly)\n",
    "\n",
    "    russia = polygons[0]\n",
    "    for poly in polygons[1:]:\n",
    "        russia = russia.union(poly)\n",
    "    return russia"
   ]
  },
  {
   "cell_type": "code",
   "execution_count": 78,
   "id": "ef986641-91f5-49ba-bcfe-2c493f5c2548",
   "metadata": {},
   "outputs": [],
   "source": [
    "ref_gdf.loc[ref_gdf['cntry_name']=='Russia', 'geometry'] = fix_russia(ref_gdf.loc[ref_gdf[\"cntry_name\"]=='Russia']['geometry'].item())"
   ]
  },
  {
   "cell_type": "code",
   "execution_count": 83,
   "id": "a8b2fddd-e490-42a3-8850-9b8ecd520b46",
   "metadata": {},
   "outputs": [],
   "source": [
    "#ref_gdf.to_file('./data/reference.geojson')"
   ]
  },
  {
   "cell_type": "markdown",
   "id": "3a70d31c-8900-4e8d-ae79-30912a93e541",
   "metadata": {
    "jp-MarkdownHeadingCollapsed": true
   },
   "source": [
    "### Done: Filter countries with sparse area\n",
    "Lets filter out the countries wich are extremly sparse "
   ]
  },
  {
   "cell_type": "code",
   "execution_count": 100,
   "id": "4b3c5c94-f741-4be7-90c1-2d127f86a0dd",
   "metadata": {},
   "outputs": [],
   "source": [
    "def filter_coverage(geom, minimum=0.02):\n",
    "    xmin, ymin, xmax, ymax = geom.bounds\n",
    "    bounding_area = (ymax - ymin) * (xmax - xmin)\n",
    "    coverage = geom.area / bounding_area\n",
    "    return coverage > minimum"
   ]
  },
  {
   "cell_type": "code",
   "execution_count": 101,
   "id": "ea67c542-3e7e-4f46-8fec-12082eace230",
   "metadata": {},
   "outputs": [],
   "source": [
    "ref_gdf = ref_gdf[ref_gdf['geometry'].apply(filter_coverage)].reset_index(drop=True)"
   ]
  },
  {
   "cell_type": "code",
   "execution_count": 103,
   "id": "b0165de0-17bd-485a-93ad-efe3ee28d6bb",
   "metadata": {},
   "outputs": [],
   "source": [
    "#ref_gdf.to_file('./data/reference.geojson')"
   ]
  },
  {
   "cell_type": "markdown",
   "id": "c8880aee-e1f6-493f-a5fc-eefea605efa9",
   "metadata": {
    "jp-MarkdownHeadingCollapsed": true
   },
   "source": [
    "### DONE: Decompose Polygon into MultiPolygon"
   ]
  },
  {
   "cell_type": "code",
   "execution_count": 104,
   "id": "2ae35ec5-933d-482a-a709-86cfea2558e6",
   "metadata": {},
   "outputs": [],
   "source": [
    "def to_MultiPolygon(polygon):\n",
    "    if isinstance(polygon, Polygon):\n",
    "        return MultiPolygon([polygon])\n",
    "    return polygon"
   ]
  },
  {
   "cell_type": "code",
   "execution_count": 105,
   "id": "bb0dc692-d5b0-4572-80b2-0cb267d599b1",
   "metadata": {},
   "outputs": [],
   "source": [
    "ref_gdf['geometry'] = ref_gdf['geometry'].apply(to_MultiPolygon)"
   ]
  },
  {
   "cell_type": "code",
   "execution_count": 107,
   "id": "b0f73620-df27-4c05-8569-fdb04790e92c",
   "metadata": {},
   "outputs": [],
   "source": [
    "#ref_gdf.to_file('./data/reference.geojson')"
   ]
  },
  {
   "cell_type": "markdown",
   "id": "f7346490-84e3-4127-bff6-4934bf0c0a09",
   "metadata": {
    "jp-MarkdownHeadingCollapsed": true
   },
   "source": [
    "### DONE: Filter countries with very few points\n",
    "Some countries consists of very few points. These are not accurate enough "
   ]
  },
  {
   "cell_type": "code",
   "execution_count": 59,
   "id": "b2406d0f-0bfd-4340-9be1-2669ce3cdf64",
   "metadata": {},
   "outputs": [],
   "source": [
    "def filter_few_points(geom, minimum=25):\n",
    "    if isinstance(geom, Polygon):\n",
    "        points = len(geom.exterior.coords)\n",
    "    if isinstance(geom, MultiPolygon):\n",
    "        points = sum([len(poly.exterior.coords) for poly in geom.geoms])\n",
    "    return points > minimum"
   ]
  },
  {
   "cell_type": "code",
   "execution_count": 60,
   "id": "290e10b9-1604-4e8e-b2ea-4b4bcdabe370",
   "metadata": {},
   "outputs": [],
   "source": [
    "ref_gdf = ref_gdf[ref_gdf['geometry'].apply(filter_few_points)].reset_index(drop=True)"
   ]
  },
  {
   "cell_type": "code",
   "execution_count": 62,
   "id": "2716b08f-b87b-4855-911e-ce0d8b4701c1",
   "metadata": {},
   "outputs": [],
   "source": [
    "#ref_gdf.to_file('./data/reference.geojson')"
   ]
  },
  {
   "cell_type": "markdown",
   "id": "4fcb9858-8602-47f1-8d5a-ea85a520ded3",
   "metadata": {},
   "source": [
    "## User drawings"
   ]
  },
  {
   "cell_type": "code",
   "execution_count": 64,
   "id": "af333865-4a7a-4055-967c-73ce9acc1a0d",
   "metadata": {},
   "outputs": [],
   "source": [
    "def init_user_data(path='./data/drawings.geojson'):\n",
    "    # Initialize an empty GeoJSON object\n",
    "    geojson_output = {\n",
    "        \"type\": \"FeatureCollection\",\n",
    "        \"features\": []}\n",
    "    \n",
    "    # Write the empty GeoJSON object to a file\n",
    "    with open(path, 'w') as f:\n",
    "        json.dump(geojson_output, f)"
   ]
  },
  {
   "cell_type": "code",
   "execution_count": 65,
   "id": "e58ee69d-3461-4938-8b8b-439715f60180",
   "metadata": {},
   "outputs": [],
   "source": [
    "def remove_drawing(idx, path='./data/drawings.geojson'):\n",
    "    with open(path, 'r') as f:\n",
    "        user_data = json.load(f)\n",
    "\n",
    "    idx = len(user_data['features']) - 1 if idx==-1 else idx\n",
    "    \n",
    "    # Check if the index is valid\n",
    "    if idx >= 0 and idx < len(user_data['features']):\n",
    "        removed_feature = user_data['features'].pop(idx)\n",
    "        print(f\"Row at index {idx} removed from {path}.\")\n",
    "    else:\n",
    "        print(\"Invalid index.\")\n",
    "\n",
    "    with open(path, 'w') as f:\n",
    "        json.dump(user_data, f)"
   ]
  },
  {
   "cell_type": "code",
   "execution_count": 66,
   "id": "efcf57b0-8cc0-4374-b53f-d2baf0307546",
   "metadata": {
    "scrolled": true
   },
   "outputs": [
    {
     "data": {
      "text/html": [
       "<div>\n",
       "<style scoped>\n",
       "    .dataframe tbody tr th:only-of-type {\n",
       "        vertical-align: middle;\n",
       "    }\n",
       "\n",
       "    .dataframe tbody tr th {\n",
       "        vertical-align: top;\n",
       "    }\n",
       "\n",
       "    .dataframe thead th {\n",
       "        text-align: right;\n",
       "    }\n",
       "</style>\n",
       "<table border=\"1\" class=\"dataframe\">\n",
       "  <thead>\n",
       "    <tr style=\"text-align: right;\">\n",
       "      <th></th>\n",
       "      <th>cntry_name</th>\n",
       "      <th>timestamp</th>\n",
       "      <th>geometry</th>\n",
       "    </tr>\n",
       "  </thead>\n",
       "  <tbody>\n",
       "    <tr>\n",
       "      <th>0</th>\n",
       "      <td>Denmark</td>\n",
       "      <td>2024-04-13 15:24:33.402</td>\n",
       "      <td>MULTILINESTRING ((7.62900 7.37313, 7.62900 7.3...</td>\n",
       "    </tr>\n",
       "    <tr>\n",
       "      <th>1</th>\n",
       "      <td>Cameroon</td>\n",
       "      <td>2024-04-13 18:35:43.835</td>\n",
       "      <td>MULTILINESTRING ((45.64269 62.00000, 44.66821 ...</td>\n",
       "    </tr>\n",
       "    <tr>\n",
       "      <th>2</th>\n",
       "      <td>Chile</td>\n",
       "      <td>2024-04-13 18:49:01.942</td>\n",
       "      <td>MULTILINESTRING ((26.21384 62.00000, 26.21384 ...</td>\n",
       "    </tr>\n",
       "    <tr>\n",
       "      <th>3</th>\n",
       "      <td>Peru</td>\n",
       "      <td>2024-04-13 18:50:25.626</td>\n",
       "      <td>MULTILINESTRING ((7.01859 45.49442, 8.57993 46...</td>\n",
       "    </tr>\n",
       "    <tr>\n",
       "      <th>4</th>\n",
       "      <td>Venezuela</td>\n",
       "      <td>2024-04-13 18:52:13.828</td>\n",
       "      <td>MULTILINESTRING ((8.23077 51.84615, 7.07692 50...</td>\n",
       "    </tr>\n",
       "    <tr>\n",
       "      <th>5</th>\n",
       "      <td>Belize</td>\n",
       "      <td>2024-04-13 19:05:46.957</td>\n",
       "      <td>MULTILINESTRING ((25.19512 2.43902, 26.21951 2...</td>\n",
       "    </tr>\n",
       "    <tr>\n",
       "      <th>6</th>\n",
       "      <td>Mexico</td>\n",
       "      <td>2024-04-13 19:07:53.642</td>\n",
       "      <td>MULTILINESTRING ((2.80717 58.50224, 3.74888 58...</td>\n",
       "    </tr>\n",
       "    <tr>\n",
       "      <th>7</th>\n",
       "      <td>United States of America</td>\n",
       "      <td>2024-04-13 20:34:47.098</td>\n",
       "      <td>MULTILINESTRING ((25.27586 38.29310, 26.65517 ...</td>\n",
       "    </tr>\n",
       "    <tr>\n",
       "      <th>8</th>\n",
       "      <td>Taiwan</td>\n",
       "      <td>2024-04-13 20:36:34.279</td>\n",
       "      <td>MULTILINESTRING ((31.22857 6.80000, 31.40000 8...</td>\n",
       "    </tr>\n",
       "    <tr>\n",
       "      <th>9</th>\n",
       "      <td>Chile</td>\n",
       "      <td>2024-04-16 09:15:17.773</td>\n",
       "      <td>MULTILINESTRING ((29.76805 60.16193, 30.55580 ...</td>\n",
       "    </tr>\n",
       "    <tr>\n",
       "      <th>10</th>\n",
       "      <td>Liberia</td>\n",
       "      <td>2024-04-20 13:44:56.324</td>\n",
       "      <td>MULTILINESTRING ((5.26531 -20.63946, 5.53741 -...</td>\n",
       "    </tr>\n",
       "    <tr>\n",
       "      <th>11</th>\n",
       "      <td>Estonia</td>\n",
       "      <td>2024-04-20 14:14:01.789</td>\n",
       "      <td>MULTILINESTRING ((24.96089 38.36872, 23.95531 ...</td>\n",
       "    </tr>\n",
       "    <tr>\n",
       "      <th>12</th>\n",
       "      <td>Uganda</td>\n",
       "      <td>2024-04-20 15:19:20.366</td>\n",
       "      <td>MULTILINESTRING ((4.67516 5.43949, 4.67516 6.4...</td>\n",
       "    </tr>\n",
       "    <tr>\n",
       "      <th>13</th>\n",
       "      <td>South Africa</td>\n",
       "      <td>2024-04-20 15:58:02.243</td>\n",
       "      <td>MULTILINESTRING ((2.00000 15.44059, 2.74257 14...</td>\n",
       "    </tr>\n",
       "    <tr>\n",
       "      <th>14</th>\n",
       "      <td>Poland</td>\n",
       "      <td>2024-04-20 16:02:27.169</td>\n",
       "      <td>MULTILINESTRING ((5.66197 54.67606, 6.64789 54...</td>\n",
       "    </tr>\n",
       "    <tr>\n",
       "      <th>15</th>\n",
       "      <td>New Zealand</td>\n",
       "      <td>2024-04-20 16:11:20.096</td>\n",
       "      <td>MULTILINESTRING ((27.53488 61.02326, 28.23256 ...</td>\n",
       "    </tr>\n",
       "    <tr>\n",
       "      <th>16</th>\n",
       "      <td>Australia</td>\n",
       "      <td>2024-04-20 19:17:52.749</td>\n",
       "      <td>MULTILINESTRING ((47.91837 14.24490, 48.83673 ...</td>\n",
       "    </tr>\n",
       "    <tr>\n",
       "      <th>17</th>\n",
       "      <td>Fiji</td>\n",
       "      <td>2024-04-20 19:22:34.361</td>\n",
       "      <td>MULTILINESTRING ((7.60050 24.37749, 7.60050 25...</td>\n",
       "    </tr>\n",
       "    <tr>\n",
       "      <th>18</th>\n",
       "      <td>Brazil</td>\n",
       "      <td>2024-04-20 19:41:43.170</td>\n",
       "      <td>MULTILINESTRING ((35.86635 60.13842, 35.86635 ...</td>\n",
       "    </tr>\n",
       "    <tr>\n",
       "      <th>19</th>\n",
       "      <td>Paraguay</td>\n",
       "      <td>2024-04-20 20:17:04.393</td>\n",
       "      <td>MULTILINESTRING ((12.27094 57.56650, 14.19212 ...</td>\n",
       "    </tr>\n",
       "    <tr>\n",
       "      <th>20</th>\n",
       "      <td>Ecuador</td>\n",
       "      <td>2024-04-20 20:20:11.993</td>\n",
       "      <td>MULTILINESTRING ((4.18884 38.63090, 4.18884 37...</td>\n",
       "    </tr>\n",
       "    <tr>\n",
       "      <th>21</th>\n",
       "      <td>Spain</td>\n",
       "      <td>2024-04-22 11:36:36.835</td>\n",
       "      <td>MULTILINESTRING ((2.15707 46.84293, 2.78534 46...</td>\n",
       "    </tr>\n",
       "    <tr>\n",
       "      <th>22</th>\n",
       "      <td>Guam</td>\n",
       "      <td>2024-04-24 08:53:27.621</td>\n",
       "      <td>MULTILINESTRING ((43.68000 62.00000, 44.80000 ...</td>\n",
       "    </tr>\n",
       "    <tr>\n",
       "      <th>23</th>\n",
       "      <td>Eritrea</td>\n",
       "      <td>2024-05-05 11:12:59.289</td>\n",
       "      <td>MULTILINESTRING ((24.72727 50.10606, 24.72727 ...</td>\n",
       "    </tr>\n",
       "    <tr>\n",
       "      <th>24</th>\n",
       "      <td>Moldova</td>\n",
       "      <td>2024-05-06 13:48:20.212</td>\n",
       "      <td>MULTILINESTRING ((13.35770 51.66057, 13.98433 ...</td>\n",
       "    </tr>\n",
       "    <tr>\n",
       "      <th>25</th>\n",
       "      <td>Botswana</td>\n",
       "      <td>2024-05-07 14:18:19.564</td>\n",
       "      <td>MULTILINESTRING ((3.49171 30.83978, 3.49171 29...</td>\n",
       "    </tr>\n",
       "    <tr>\n",
       "      <th>26</th>\n",
       "      <td>Croatia</td>\n",
       "      <td>2024-05-07 15:06:30.985</td>\n",
       "      <td>MULTILINESTRING ((32.79518 59.39759, 33.80723 ...</td>\n",
       "    </tr>\n",
       "    <tr>\n",
       "      <th>27</th>\n",
       "      <td>Malta</td>\n",
       "      <td>2024-05-07 15:13:07.760</td>\n",
       "      <td>MULTILINESTRING ((11.09574 60.80319, 12.21277 ...</td>\n",
       "    </tr>\n",
       "    <tr>\n",
       "      <th>28</th>\n",
       "      <td>Niger</td>\n",
       "      <td>2024-05-07 15:40:05.018</td>\n",
       "      <td>MULTILINESTRING ((23.71582 41.16890, 24.68097 ...</td>\n",
       "    </tr>\n",
       "    <tr>\n",
       "      <th>29</th>\n",
       "      <td>Belgium</td>\n",
       "      <td>2024-05-07 15:57:49.991</td>\n",
       "      <td>MULTILINESTRING ((10.08290 51.81865, 11.17098 ...</td>\n",
       "    </tr>\n",
       "    <tr>\n",
       "      <th>30</th>\n",
       "      <td>Armenia</td>\n",
       "      <td>2024-05-07 16:32:41.181</td>\n",
       "      <td>MULTILINESTRING ((5.22581 56.75806, 6.19355 56...</td>\n",
       "    </tr>\n",
       "  </tbody>\n",
       "</table>\n",
       "</div>"
      ],
      "text/plain": [
       "                  cntry_name               timestamp  \\\n",
       "0                    Denmark 2024-04-13 15:24:33.402   \n",
       "1                   Cameroon 2024-04-13 18:35:43.835   \n",
       "2                      Chile 2024-04-13 18:49:01.942   \n",
       "3                       Peru 2024-04-13 18:50:25.626   \n",
       "4                  Venezuela 2024-04-13 18:52:13.828   \n",
       "5                     Belize 2024-04-13 19:05:46.957   \n",
       "6                     Mexico 2024-04-13 19:07:53.642   \n",
       "7   United States of America 2024-04-13 20:34:47.098   \n",
       "8                     Taiwan 2024-04-13 20:36:34.279   \n",
       "9                      Chile 2024-04-16 09:15:17.773   \n",
       "10                   Liberia 2024-04-20 13:44:56.324   \n",
       "11                   Estonia 2024-04-20 14:14:01.789   \n",
       "12                    Uganda 2024-04-20 15:19:20.366   \n",
       "13              South Africa 2024-04-20 15:58:02.243   \n",
       "14                    Poland 2024-04-20 16:02:27.169   \n",
       "15               New Zealand 2024-04-20 16:11:20.096   \n",
       "16                 Australia 2024-04-20 19:17:52.749   \n",
       "17                      Fiji 2024-04-20 19:22:34.361   \n",
       "18                    Brazil 2024-04-20 19:41:43.170   \n",
       "19                  Paraguay 2024-04-20 20:17:04.393   \n",
       "20                   Ecuador 2024-04-20 20:20:11.993   \n",
       "21                     Spain 2024-04-22 11:36:36.835   \n",
       "22                      Guam 2024-04-24 08:53:27.621   \n",
       "23                   Eritrea 2024-05-05 11:12:59.289   \n",
       "24                   Moldova 2024-05-06 13:48:20.212   \n",
       "25                  Botswana 2024-05-07 14:18:19.564   \n",
       "26                   Croatia 2024-05-07 15:06:30.985   \n",
       "27                     Malta 2024-05-07 15:13:07.760   \n",
       "28                     Niger 2024-05-07 15:40:05.018   \n",
       "29                   Belgium 2024-05-07 15:57:49.991   \n",
       "30                   Armenia 2024-05-07 16:32:41.181   \n",
       "\n",
       "                                             geometry  \n",
       "0   MULTILINESTRING ((7.62900 7.37313, 7.62900 7.3...  \n",
       "1   MULTILINESTRING ((45.64269 62.00000, 44.66821 ...  \n",
       "2   MULTILINESTRING ((26.21384 62.00000, 26.21384 ...  \n",
       "3   MULTILINESTRING ((7.01859 45.49442, 8.57993 46...  \n",
       "4   MULTILINESTRING ((8.23077 51.84615, 7.07692 50...  \n",
       "5   MULTILINESTRING ((25.19512 2.43902, 26.21951 2...  \n",
       "6   MULTILINESTRING ((2.80717 58.50224, 3.74888 58...  \n",
       "7   MULTILINESTRING ((25.27586 38.29310, 26.65517 ...  \n",
       "8   MULTILINESTRING ((31.22857 6.80000, 31.40000 8...  \n",
       "9   MULTILINESTRING ((29.76805 60.16193, 30.55580 ...  \n",
       "10  MULTILINESTRING ((5.26531 -20.63946, 5.53741 -...  \n",
       "11  MULTILINESTRING ((24.96089 38.36872, 23.95531 ...  \n",
       "12  MULTILINESTRING ((4.67516 5.43949, 4.67516 6.4...  \n",
       "13  MULTILINESTRING ((2.00000 15.44059, 2.74257 14...  \n",
       "14  MULTILINESTRING ((5.66197 54.67606, 6.64789 54...  \n",
       "15  MULTILINESTRING ((27.53488 61.02326, 28.23256 ...  \n",
       "16  MULTILINESTRING ((47.91837 14.24490, 48.83673 ...  \n",
       "17  MULTILINESTRING ((7.60050 24.37749, 7.60050 25...  \n",
       "18  MULTILINESTRING ((35.86635 60.13842, 35.86635 ...  \n",
       "19  MULTILINESTRING ((12.27094 57.56650, 14.19212 ...  \n",
       "20  MULTILINESTRING ((4.18884 38.63090, 4.18884 37...  \n",
       "21  MULTILINESTRING ((2.15707 46.84293, 2.78534 46...  \n",
       "22  MULTILINESTRING ((43.68000 62.00000, 44.80000 ...  \n",
       "23  MULTILINESTRING ((24.72727 50.10606, 24.72727 ...  \n",
       "24  MULTILINESTRING ((13.35770 51.66057, 13.98433 ...  \n",
       "25  MULTILINESTRING ((3.49171 30.83978, 3.49171 29...  \n",
       "26  MULTILINESTRING ((32.79518 59.39759, 33.80723 ...  \n",
       "27  MULTILINESTRING ((11.09574 60.80319, 12.21277 ...  \n",
       "28  MULTILINESTRING ((23.71582 41.16890, 24.68097 ...  \n",
       "29  MULTILINESTRING ((10.08290 51.81865, 11.17098 ...  \n",
       "30  MULTILINESTRING ((5.22581 56.75806, 6.19355 56...  "
      ]
     },
     "execution_count": 66,
     "metadata": {},
     "output_type": "execute_result"
    }
   ],
   "source": [
    "user_gdf = gpd.read_file('./data/drawings.geojson')\n",
    "user_gdf"
   ]
  },
  {
   "cell_type": "code",
   "execution_count": 67,
   "id": "689302be-cebd-4de0-a253-6af4ce6d537b",
   "metadata": {},
   "outputs": [
    {
     "name": "stdout",
     "output_type": "stream",
     "text": [
      "Row at index 27 removed from ./data/drawings.geojson.\n"
     ]
    }
   ],
   "source": [
    "#remove_drawing(27)"
   ]
  },
  {
   "cell_type": "markdown",
   "id": "8e5f369f-1f5c-4449-b484-9a6f53ebce83",
   "metadata": {},
   "source": [
    "### Plot user drawings"
   ]
  },
  {
   "cell_type": "code",
   "execution_count": 6,
   "id": "99199f9c-81f7-4663-990d-354d58617988",
   "metadata": {},
   "outputs": [],
   "source": [
    "import matplotlib.pyplot as plt\n",
    "from countryguess.data import TestDataset, Dataset\n",
    "from countryguess.utils import poly_to_img "
   ]
  },
  {
   "cell_type": "code",
   "execution_count": 7,
   "id": "87a1fd47-52a8-4a5f-a8aa-bdb848d40e3d",
   "metadata": {},
   "outputs": [],
   "source": [
    "test_data = TestDataset(shape=(128, 128))\n",
    "ref_data = Dataset(shape=(128, 128))"
   ]
  },
  {
   "cell_type": "code",
   "execution_count": 15,
   "id": "9e917e50-3fe9-4ad3-b68d-4c9964a22f4b",
   "metadata": {},
   "outputs": [
    {
     "data": {
      "image/png": "[encoded data removed]",
      "text/plain": [
       "<Figure size 1000x500 with 2 Axes>"
      ]
     },
     "metadata": {},
     "output_type": "display_data"
    }
   ],
   "source": [
    "sample = test_data[27]\n",
    "\n",
    "fig, axs = plt.subplots(1, 2, figsize=(10, 5))\n",
    "axs[0].imshow(sample[\"drawing\"], interpolation='nearest', origin='lower')\n",
    "axs[0].set_title(f\"User drawing of {sample['country_name']}\") \n",
    "\n",
    "img = poly_to_img(ref_data.from_country_name(sample['country_name']), ref_data.shape)\n",
    "axs[1].imshow(img, interpolation='nearest', origin='lower')\n",
    "axs[1].set_title(\"Reference shape\")\n",
    "plt.show()"
   ]
  }
 ],
 "metadata": {
  "kernelspec": {
   "display_name": "Python 3 (ipykernel)",
   "language": "python",
   "name": "python3"
  },
  "language_info": {
   "codemirror_mode": {
    "name": "ipython",
    "version": 3
   },
   "file_extension": ".py",
   "mimetype": "text/x-python",
   "name": "python",
   "nbconvert_exporter": "python",
   "pygments_lexer": "ipython3",
   "version": "3.12.3"
  }
 },
 "nbformat": 4,
 "nbformat_minor": 5
}
