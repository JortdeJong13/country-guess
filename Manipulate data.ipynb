{
  "cells": [
    {
      "id": "fb1e0e41-cff9-4aa7-92d6-f6b25d595b29",
      "cell_type": "markdown",
      "source": [
        "# Manipulate data\n",
        "In this notebook the reference data and the user data are manipulated"
      ],
      "metadata": {},
      "attachments": {}
    },
    {
      "id": "b6eeac7f-99a7-4d3f-b225-854c00cf7cfd",
      "cell_type": "code",
      "execution_count": 1,
      "outputs": [],
      "source": [
        "#Imports\n",
        "import json\n",
        "import geopandas as gpd\n",
        "from shapely import Polygon, MultiPolygon"
      ],
      "metadata": {}
    },
    {
      "id": "23a1a530-9176-4f5e-99f3-ee736c1f9935",
      "cell_type": "markdown",
      "source": [
        "## Reference countries\n",
        "I used the following dataset <br>https://public.opendatasoft.com/explore/dataset/country_shapes/information/?location=2,-32.99024,1.40625&basemap=jawg.light<br> for the country reference shapes. The cells below contain the modification made to the data. "
      ],
      "metadata": {
        "jp-MarkdownHeadingCollapsed": true
      },
      "attachments": {}
    },
    {
      "id": "e5813a1b-2bb1-43f1-8b0c-25517f144ac4",
      "cell_type": "code",
      "execution_count": null,
      "outputs": [],
      "source": [
        "ref_gdf = gpd.read_file('./data/reference.geojson')\n",
        "ref_gdf"
      ],
      "metadata": {}
    },
    {
      "id": "e7b39b10-6bbb-4ab4-a1ab-65c9df14e1d2",
      "cell_type": "markdown",
      "source": [
        "### DONE: Remove small islands seperated from the mainland\n",
        "Some countries, like Chile and Denmark, have a small island that is seperated from the mainland by a large distane. \n",
        "Lets remove these \"outliers\""
      ],
      "metadata": {
        "jp-MarkdownHeadingCollapsed": true
      },
      "attachments": {}
    },
    {
      "id": "ffc04f58-35e4-4710-b4f2-71ee5616746d",
      "cell_type": "code",
      "execution_count": null,
      "outputs": [],
      "source": [
        "def rm_outlier(geom, min_length=0.8, min_area=0.05):\n",
        "    if isinstance(geom, Polygon):\n",
        "        return geom\n",
        "\n",
        "    #Get current geom boundary length \n",
        "    xmin, ymin, xmax, ymax = geom.bounds\n",
        "    geom_length = (xmax - xmin) + (ymax - ymin)\n",
        "        \n",
        "    polygons = [poly for poly in geom.geoms]\n",
        "    new_polygons = []\n",
        "    for idx in range(len(polygons)):\n",
        "        subset = polygons.copy()\n",
        "        poly = subset.pop(idx)\n",
        "        new_geom = MultiPolygon(subset)\n",
        "        xmin, ymin, xmax, ymax = new_geom.bounds\n",
        "        length = (xmax - xmin) + (ymax - ymin)\n",
        "        #Check if the polygon should be omitted \n",
        "        if (length / geom_length) > min_length or (poly.area / geom.area) > min_area:\n",
        "            new_polygons.append(poly)\n",
        "    \n",
        "    return MultiPolygon(new_polygons)"
      ],
      "metadata": {}
    },
    {
      "id": "140fd8d1-4ffa-4034-9989-5c7738df895e",
      "cell_type": "code",
      "execution_count": null,
      "outputs": [],
      "source": [
        "ref_gdf['geometry'] = ref_gdf['geometry'].apply(rm_outlier)"
      ],
      "metadata": {}
    },
    {
      "id": "fd3c7d0e-eefc-43fd-b4a7-3cbc37fece5f",
      "cell_type": "code",
      "execution_count": null,
      "outputs": [],
      "source": [
        "ref_gdf.to_file('./data/reference.geojson')"
      ],
      "metadata": {}
    },
    {
      "id": "6864bdec-b44f-464b-b347-7b108d571919",
      "cell_type": "markdown",
      "source": [
        "### DONE: Change map projection\n",
        "The projection used in the reference dataset seems to be the equirectangular projection. This leads to deformed country shapes, especially around the poles."
      ],
      "metadata": {
        "jp-MarkdownHeadingCollapsed": true
      },
      "attachments": {}
    },
    {
      "id": "2a3c392b-4b3b-4452-b0b3-5c638d9d530a",
      "cell_type": "code",
      "execution_count": null,
      "outputs": [],
      "source": [
        "ref_gdf = ref_gdf[ref_gdf.cntry_name != 'Antarctica'].reset_index(drop=True)"
      ],
      "metadata": {}
    },
    {
      "id": "b758ca03-1dfc-4e4d-ba37-333bf2fa30f7",
      "cell_type": "code",
      "execution_count": null,
      "outputs": [],
      "source": [
        "from pyproj import Proj, Transformer \n",
        "from shapely.ops import transform"
      ],
      "metadata": {}
    },
    {
      "id": "f162dff5-4929-4c5e-95c1-58763cd2b19f",
      "cell_type": "code",
      "execution_count": null,
      "outputs": [],
      "source": [
        "def change_projection(polygon):\n",
        "    source_proj = Proj(init='EPSG:4326')  # WGS84 geographic coordinate system\n",
        "    target_proj = Proj(init='EPSG:3857')  # Web Mercator projection\n",
        "    transformer = Transformer.from_proj(source_proj, target_proj)\n",
        "\n",
        "    return transform(transformer.transform, polygon)"
      ],
      "metadata": {}
    },
    {
      "id": "5011108e-3c21-4f85-9313-e65a9a8d68ef",
      "cell_type": "code",
      "execution_count": null,
      "outputs": [],
      "source": [
        "ref_gdf['geometry'] = ref_gdf['geometry'].apply(change_projection)"
      ],
      "metadata": {}
    },
    {
      "id": "63ba4c1e-d843-4e91-a90b-9bc485b26f8e",
      "cell_type": "code",
      "execution_count": null,
      "outputs": [],
      "source": [
        "#ref_gdf.to_file('./data/reference.geojson')"
      ],
      "metadata": {}
    },
    {
      "id": "a9d50519-cc97-4bf8-b567-537ea9c24e65",
      "cell_type": "markdown",
      "source": [
        "### DONE: Merge Russia\n",
        "Russia crosses the antimeridian which causes problems. Lets fix this"
      ],
      "metadata": {
        "jp-MarkdownHeadingCollapsed": true
      },
      "attachments": {}
    },
    {
      "id": "72e1bd39-02a4-4215-9a5e-522e78e054d3",
      "cell_type": "code",
      "execution_count": null,
      "outputs": [],
      "source": [
        "from shapely.affinity import translate\n",
        "\n",
        "\n",
        "def fix_russia(russia):\n",
        "    xmin, _, xmax, _ = russia.bounds\n",
        "    width = xmax - xmin\n",
        "    polygons = []\n",
        "    for poly in russia.geoms:\n",
        "        _, _, maxx, _ = poly.bounds\n",
        "        if maxx < 0:\n",
        "            poly = translate(poly, xoff=width)\n",
        "        polygons.append(poly)\n",
        "\n",
        "    russia = polygons[0]\n",
        "    for poly in polygons[1:]:\n",
        "        russia = russia.union(poly)\n",
        "    return russia"
      ],
      "metadata": {}
    },
    {
      "id": "ef986641-91f5-49ba-bcfe-2c493f5c2548",
      "cell_type": "code",
      "execution_count": null,
      "outputs": [],
      "source": [
        "ref_gdf.loc[ref_gdf['cntry_name']=='Russia', 'geometry'] = fix_russia(ref_gdf.loc[ref_gdf[\"cntry_name\"]=='Russia']['geometry'].item())"
      ],
      "metadata": {}
    },
    {
      "id": "a8b2fddd-e490-42a3-8850-9b8ecd520b46",
      "cell_type": "code",
      "execution_count": null,
      "outputs": [],
      "source": [
        "#ref_gdf.to_file('./data/reference.geojson')"
      ],
      "metadata": {}
    },
    {
      "id": "3a70d31c-8900-4e8d-ae79-30912a93e541",
      "cell_type": "markdown",
      "source": [
        "### Done: Filter countries with sparse area\n",
        "Lets filter out the countries wich are extremly sparse "
      ],
      "metadata": {
        "jp-MarkdownHeadingCollapsed": true
      },
      "attachments": {}
    },
    {
      "id": "4b3c5c94-f741-4be7-90c1-2d127f86a0dd",
      "cell_type": "code",
      "execution_count": null,
      "outputs": [],
      "source": [
        "def filter_coverage(geom, minimum=0.02):\n",
        "    xmin, ymin, xmax, ymax = geom.bounds\n",
        "    bounding_area = (ymax - ymin) * (xmax - xmin)\n",
        "    coverage = geom.area / bounding_area\n",
        "    return coverage > minimum"
      ],
      "metadata": {}
    },
    {
      "id": "ea67c542-3e7e-4f46-8fec-12082eace230",
      "cell_type": "code",
      "execution_count": null,
      "outputs": [],
      "source": [
        "ref_gdf = ref_gdf[ref_gdf['geometry'].apply(filter_coverage)].reset_index(drop=True)"
      ],
      "metadata": {}
    },
    {
      "id": "b0165de0-17bd-485a-93ad-efe3ee28d6bb",
      "cell_type": "code",
      "execution_count": null,
      "outputs": [],
      "source": [
        "#ref_gdf.to_file('./data/reference.geojson')"
      ],
      "metadata": {}
    },
    {
      "id": "c8880aee-e1f6-493f-a5fc-eefea605efa9",
      "cell_type": "markdown",
      "source": [
        "### DONE: Decompose Polygon into MultiPolygon"
      ],
      "metadata": {
        "jp-MarkdownHeadingCollapsed": true
      },
      "attachments": {}
    },
    {
      "id": "2ae35ec5-933d-482a-a709-86cfea2558e6",
      "cell_type": "code",
      "execution_count": null,
      "outputs": [],
      "source": [
        "def to_MultiPolygon(polygon):\n",
        "    if isinstance(polygon, Polygon):\n",
        "        return MultiPolygon([polygon])\n",
        "    return polygon"
      ],
      "metadata": {}
    },
    {
      "id": "bb0dc692-d5b0-4572-80b2-0cb267d599b1",
      "cell_type": "code",
      "execution_count": null,
      "outputs": [],
      "source": [
        "ref_gdf['geometry'] = ref_gdf['geometry'].apply(to_MultiPolygon)"
      ],
      "metadata": {}
    },
    {
      "id": "b0f73620-df27-4c05-8569-fdb04790e92c",
      "cell_type": "code",
      "execution_count": null,
      "outputs": [],
      "source": [
        "#ref_gdf.to_file('./data/reference.geojson')"
      ],
      "metadata": {}
    },
    {
      "id": "f7346490-84e3-4127-bff6-4934bf0c0a09",
      "cell_type": "markdown",
      "source": [
        "### DONE: Filter countries with very few points\n",
        "Some countries consists of very few points. These are not accurate enough "
      ],
      "metadata": {
        "jp-MarkdownHeadingCollapsed": true
      },
      "attachments": {}
    },
    {
      "id": "b2406d0f-0bfd-4340-9be1-2669ce3cdf64",
      "cell_type": "code",
      "execution_count": null,
      "outputs": [],
      "source": [
        "def filter_few_points(geom, minimum=25):\n",
        "    if isinstance(geom, Polygon):\n",
        "        points = len(geom.exterior.coords)\n",
        "    if isinstance(geom, MultiPolygon):\n",
        "        points = sum([len(poly.exterior.coords) for poly in geom.geoms])\n",
        "    return points > minimum"
      ],
      "metadata": {}
    },
    {
      "id": "290e10b9-1604-4e8e-b2ea-4b4bcdabe370",
      "cell_type": "code",
      "execution_count": null,
      "outputs": [],
      "source": [
        "ref_gdf = ref_gdf[ref_gdf['geometry'].apply(filter_few_points)].reset_index(drop=True)"
      ],
      "metadata": {}
    },
    {
      "id": "2716b08f-b87b-4855-911e-ce0d8b4701c1",
      "cell_type": "code",
      "execution_count": null,
      "outputs": [],
      "source": [
        "#ref_gdf.to_file('./data/reference.geojson')"
      ],
      "metadata": {}
    },
    {
      "id": "e355dc00-550b-4acd-9096-3f4866b592ca",
      "cell_type": "markdown",
      "source": [
        "### DONE: Decompose single file\n",
        "All the reference shapes are in a single geojson file. This limits git in proper version control of the data. \n",
        "As such I decompose the single geojson file into one file for each reference shape."
      ],
      "metadata": {},
      "attachments": {}
    },
    {
      "id": "f44ad378-45a2-4fd2-918e-07ff927bd0ba",
      "cell_type": "code",
      "execution_count": null,
      "outputs": [],
      "source": [
        "def decompose_ref_geojson(file='./data/reference.geojson', output_dir='./data/reference/'):\n",
        "    # Create output directory if it doesn't exist\n",
        "    Path(output_dir).mkdir(parents=True, exist_ok=True)\n",
        "    \n",
        "    ref_gdf = gpd.read_file(file)\n",
        "    files = set()\n",
        "\n",
        "    # Process each country\n",
        "    for idx, row in ref_gdf.iterrows():\n",
        "        # Create a clean filename from country name\n",
        "        country_name = row['cntry_name']\n",
        "        filename = country_name.lower().replace(' ', '_') + '.geojson'\n",
        "\n",
        "        # Make sure no duplicate filenames \n",
        "        assert filename not in files\n",
        "        files.add(filename)\n",
        "\n",
        "        # Create GeoJSON feature with CRS information\n",
        "        geojson = {\n",
        "            \"type\": \"FeatureCollection\",\n",
        "            \"crs\": {\n",
        "                \"type\": \"name\",\n",
        "                \"properties\": {\n",
        "                    \"name\": \"urn:ogc:def:crs:OGC:1.3:CRS84\"\n",
        "                }\n",
        "            },\n",
        "            \"features\": [{\n",
        "                \"type\": \"Feature\",\n",
        "                \"properties\": {\n",
        "                    \"country_name\": country_name,\n",
        "                },\n",
        "                \"geometry\": row['geometry'].__geo_interface__\n",
        "            }]\n",
        "        }\n",
        "        \n",
        "        # Save to file\n",
        "        with open(Path(output_dir) / filename, 'w') as f:\n",
        "            json.dump(geojson, f, indent=2)"
      ],
      "metadata": {}
    },
    {
      "id": "9e1dbb18-36c8-4ab2-a41c-c5b4a9bf5d3a",
      "cell_type": "code",
      "execution_count": 10,
      "outputs": [],
      "source": [
        "#decompose_ref_geojson('./data/reference.geojson', './data/reference/')"
      ],
      "metadata": {}
    },
    {
      "id": "4fcb9858-8602-47f1-8d5a-ea85a520ded3",
      "cell_type": "markdown",
      "source": [
        "## User drawings"
      ],
      "metadata": {},
      "attachments": {}
    },
    {
      "id": "99199f9c-81f7-4663-990d-354d58617988",
      "cell_type": "code",
      "execution_count": 2,
      "outputs": [],
      "source": [
        "import matplotlib.pyplot as plt\n",
        "from countryguess.data import TestDataset, Dataset, poly_to_img"
      ],
      "metadata": {}
    },
    {
      "id": "791c2cb0-a179-4d07-8d2e-8e25b7b50928",
      "cell_type": "code",
      "execution_count": 3,
      "outputs": [
        {
          "output_type": "execute_result",
          "execution_count": 3,
          "data": {
            "text/plain": [
              "                country_name               timestamp  \\\n",
              "0                    Denmark 2024-04-13 15:24:33.402   \n",
              "1                   Cameroon 2024-04-13 18:35:43.835   \n",
              "2                      Chile 2024-04-13 18:49:01.942   \n",
              "3                       Peru 2024-04-13 18:50:25.626   \n",
              "4                  Venezuela 2024-04-13 18:52:13.828   \n",
              "..                       ...                     ...   \n",
              "74  United States of America 2025-02-28 14:04:56.031   \n",
              "75                   Uruguay 2025-02-28 14:08:18.771   \n",
              "76                     Egypt 2025-02-28 14:10:03.298   \n",
              "77                    Brazil 2025-03-31 08:20:07.008   \n",
              "78                    Brazil 2025-03-31 08:20:36.519   \n",
              "\n",
              "                                             geometry  \n",
              "0   MULTILINESTRING ((13.63326 13.10448, 13.63326 ...  \n",
              "1   MULTILINESTRING ((92.1949 126, 90.18097 125.71...  \n",
              "2   MULTILINESTRING ((52.04193 126, 52.04193 124.1...  \n",
              "3   MULTILINESTRING ((12.37175 91.88848, 15.59851 ...  \n",
              "4   MULTILINESTRING ((14.87692 105.01538, 12.49231...  \n",
              "..                                                ...  \n",
              "74  MULTILINESTRING ((118.35854 104.29132, 120.442...  \n",
              "75  MULTILINESTRING ((11.92 116.43429, 16.88 115.7...  \n",
              "76  MULTILINESTRING ((2.65263 117.51579, 2.65263 1...  \n",
              "77  MULTILINESTRING ((71.33005 6.27586, 71.33005 8...  \n",
              "78  MULTILINESTRING ((78.86301 2, 78.86301 4.83105...  \n",
              "\n",
              "[79 rows x 3 columns]"
            ],
            "text/html": [
              "<div>\n",
              "<style scoped>\n",
              "    .dataframe tbody tr th:only-of-type {\n",
              "        vertical-align: middle;\n",
              "    }\n",
              "\n",
              "    .dataframe tbody tr th {\n",
              "        vertical-align: top;\n",
              "    }\n",
              "\n",
              "    .dataframe thead th {\n",
              "        text-align: right;\n",
              "    }\n",
              "</style>\n",
              "<table border=\"1\" class=\"dataframe\">\n",
              "  <thead>\n",
              "    <tr style=\"text-align: right;\">\n",
              "      <th></th>\n",
              "      <th>country_name</th>\n",
              "      <th>timestamp</th>\n",
              "      <th>geometry</th>\n",
              "    </tr>\n",
              "  </thead>\n",
              "  <tbody>\n",
              "    <tr>\n",
              "      <th>0</th>\n",
              "      <td>Denmark</td>\n",
              "      <td>2024-04-13 15:24:33.402</td>\n",
              "      <td>MULTILINESTRING ((13.63326 13.10448, 13.63326 ...</td>\n",
              "    </tr>\n",
              "    <tr>\n",
              "      <th>1</th>\n",
              "      <td>Cameroon</td>\n",
              "      <td>2024-04-13 18:35:43.835</td>\n",
              "      <td>MULTILINESTRING ((92.1949 126, 90.18097 125.71...</td>\n",
              "    </tr>\n",
              "    <tr>\n",
              "      <th>2</th>\n",
              "      <td>Chile</td>\n",
              "      <td>2024-04-13 18:49:01.942</td>\n",
              "      <td>MULTILINESTRING ((52.04193 126, 52.04193 124.1...</td>\n",
              "    </tr>\n",
              "    <tr>\n",
              "      <th>3</th>\n",
              "      <td>Peru</td>\n",
              "      <td>2024-04-13 18:50:25.626</td>\n",
              "      <td>MULTILINESTRING ((12.37175 91.88848, 15.59851 ...</td>\n",
              "    </tr>\n",
              "    <tr>\n",
              "      <th>4</th>\n",
              "      <td>Venezuela</td>\n",
              "      <td>2024-04-13 18:52:13.828</td>\n",
              "      <td>MULTILINESTRING ((14.87692 105.01538, 12.49231...</td>\n",
              "    </tr>\n",
              "    <tr>\n",
              "      <th>...</th>\n",
              "      <td>...</td>\n",
              "      <td>...</td>\n",
              "      <td>...</td>\n",
              "    </tr>\n",
              "    <tr>\n",
              "      <th>74</th>\n",
              "      <td>United States of America</td>\n",
              "      <td>2025-02-28 14:04:56.031</td>\n",
              "      <td>MULTILINESTRING ((118.35854 104.29132, 120.442...</td>\n",
              "    </tr>\n",
              "    <tr>\n",
              "      <th>75</th>\n",
              "      <td>Uruguay</td>\n",
              "      <td>2025-02-28 14:08:18.771</td>\n",
              "      <td>MULTILINESTRING ((11.92 116.43429, 16.88 115.7...</td>\n",
              "    </tr>\n",
              "    <tr>\n",
              "      <th>76</th>\n",
              "      <td>Egypt</td>\n",
              "      <td>2025-02-28 14:10:03.298</td>\n",
              "      <td>MULTILINESTRING ((2.65263 117.51579, 2.65263 1...</td>\n",
              "    </tr>\n",
              "    <tr>\n",
              "      <th>77</th>\n",
              "      <td>Brazil</td>\n",
              "      <td>2025-03-31 08:20:07.008</td>\n",
              "      <td>MULTILINESTRING ((71.33005 6.27586, 71.33005 8...</td>\n",
              "    </tr>\n",
              "    <tr>\n",
              "      <th>78</th>\n",
              "      <td>Brazil</td>\n",
              "      <td>2025-03-31 08:20:36.519</td>\n",
              "      <td>MULTILINESTRING ((78.86301 2, 78.86301 4.83105...</td>\n",
              "    </tr>\n",
              "  </tbody>\n",
              "</table>\n",
              "<p>79 rows × 3 columns</p>\n",
              "</div>"
            ]
          },
          "metadata": {}
        }
      ],
      "source": [
        "test_data = TestDataset(shape=(128, 128))\n",
        "test_data.gdf"
      ],
      "metadata": {}
    },
    {
      "id": "8e5f369f-1f5c-4449-b484-9a6f53ebce83",
      "cell_type": "markdown",
      "source": [
        "### Plot user drawings"
      ],
      "metadata": {},
      "attachments": {}
    },
    {
      "id": "87a1fd47-52a8-4a5f-a8aa-bdb848d40e3d",
      "cell_type": "code",
      "execution_count": 4,
      "outputs": [],
      "source": [
        "ref_data = Dataset(shape=(128, 128))"
      ],
      "metadata": {}
    },
    {
      "id": "9e917e50-3fe9-4ad3-b68d-4c9964a22f4b",
      "cell_type": "code",
      "execution_count": 9,
      "outputs": [
        {
          "output_type": "display_data",
          "data": {
            "text/plain": [
              "<Figure size 1000x500 with 2 Axes>"
            ],
            "image/png": "[encoded data removed]"
          },
          "metadata": {}
        }
      ],
      "source": [
        "sample = test_data[-4]\n",
        "\n",
        "fig, axs = plt.subplots(1, 2, figsize=(10, 5))\n",
        "fig.patch.set_facecolor('black')\n",
        "axs[0].imshow(sample[\"drawing\"], interpolation='nearest', origin='lower', cmap='copper')\n",
        "axs[0].set_title(f\"User drawing of {sample['country_name']}\", color='white')\n",
        "\n",
        "img = poly_to_img(ref_data.from_country_name(sample['country_name']), ref_data.shape)\n",
        "axs[1].imshow(img, interpolation='nearest', origin='lower', cmap='copper')\n",
        "axs[1].set_title(\"Reference shape\", color='white')\n",
        "for ax in axs: ax.axis('off')\n",
        "plt.show()"
      ],
      "metadata": {}
    }
  ],
  "metadata": {
    "kernelspec": {
      "name": "countryguess",
      "display_name": "countryguess",
      "language": "python"
    },
    "language_info": {
      "name": "python",
      "codemirror_mode": {
        "name": "ipython",
        "version": 3
      },
      "file_extension": ".py",
      "mimetype": "text/x-python",
      "pygments_lexer": "ipython3"
    }
  },
  "nbformat": 4,
  "nbformat_minor": 5
}