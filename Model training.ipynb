{
  "cells": [
    {
      "id": "5501bdc2-3d95-4c1e-bdb2-c66c10440f8c",
      "cell_type": "markdown",
      "source": [
        "# Model training\n",
        "In this notebook a model is created, trained and evaluated on the test set.\n",
        "<br>MLFlow is used to track the experiments and push a model to production."
      ],
      "metadata": {},
      "attachments": {}
    },
    {
      "id": "8af7355e-c8ce-487b-9098-09201cd66659",
      "cell_type": "code",
      "execution_count": 1,
      "outputs": [],
      "source": [
        "# Imports\n",
        "import numpy as np\n",
        "import matplotlib.pyplot as plt\n",
        "import random\n",
        "from torch.utils.data import DataLoader\n",
        "import torch\n",
        "import torch.nn as nn\n",
        "import mlflow\n",
        "\n",
        "from countryguess.data import Dataset, TestDataset\n",
        "from countryguess.model import CustomEmbeddingModel, TripletModel\n",
        "from countryguess.generate import TripletDataset, ValDataset\n",
        "from countryguess.training import train, evaluate"
      ],
      "metadata": {}
    },
    {
      "id": "6886d84c-b2dc-4e13-9f71-9f92e4d224a5",
      "cell_type": "markdown",
      "source": [
        "## Plotting datasets"
      ],
      "metadata": {},
      "attachments": {}
    },
    {
      "id": "7cd632e2-dfd2-4503-a720-bdaf0c7d3cd5",
      "cell_type": "markdown",
      "source": [
        "### Initialise datasets"
      ],
      "metadata": {},
      "attachments": {}
    },
    {
      "id": "f1255a4b-4137-4af4-8ce0-2b299277a01f",
      "cell_type": "code",
      "execution_count": 2,
      "outputs": [],
      "source": [
        "shape=(160, 160)\n",
        "ref_data = Dataset(shape=shape)\n",
        "train_data = TripletDataset(shape=shape, temp=0.9)\n",
        "val_data = ValDataset(shape=shape, temp=0.9)\n",
        "test_data = TestDataset(shape=shape)"
      ],
      "metadata": {}
    },
    {
      "id": "b83c251b-2868-4ebf-a335-42c260f3617c",
      "cell_type": "markdown",
      "source": [
        "### Plotting"
      ],
      "metadata": {},
      "attachments": {}
    },
    {
      "id": "a5e89173-4adb-4394-96d0-5b668f0e827d",
      "cell_type": "markdown",
      "source": [
        "#### Training data"
      ],
      "metadata": {},
      "attachments": {}
    },
    {
      "id": "0c861fac-e4a0-489f-86a2-300206a8308b",
      "cell_type": "code",
      "execution_count": 35,
      "outputs": [
        {
          "output_type": "display_data",
          "data": {
            "text/plain": [
              "<Figure size 1000x500 with 3 Axes>"
            ],
            "image/png": "[encoded data removed]"
          },
          "metadata": {}
        }
      ],
      "source": [
        "idx = random.randint(0, len(train_data) - 1)\n",
        "sample = train_data[idx]\n",
        "\n",
        "# Plotting\n",
        "fig, axs = plt.subplots(1, 3, figsize=(10, 5))\n",
        "fig.patch.set_facecolor(\"black\")\n",
        "axs[0].imshow(sample[\"drawing\"], interpolation=\"nearest\", origin=\"lower\", cmap=\"copper\")\n",
        "axs[0].set_title(\"Generated drawing\", color=\"white\")\n",
        "axs[1].imshow(sample[\"pos_img\"], interpolation=\"nearest\", origin=\"lower\", cmap=\"copper\")\n",
        "axs[1].set_title(\"Positive country\", color=\"white\")\n",
        "axs[2].imshow(sample[\"neg_img\"], interpolation=\"nearest\", origin=\"lower\", cmap=\"copper\")\n",
        "axs[2].set_title(\"Negative country\", color=\"white\")\n",
        "for ax in axs:\n",
        "    ax.axis(\"off\")\n",
        "plt.show()"
      ],
      "metadata": {}
    },
    {
      "id": "0e8342a1-de6d-472e-8554-543a9f4fd856",
      "cell_type": "markdown",
      "source": [
        "#### Validation set"
      ],
      "metadata": {},
      "attachments": {}
    },
    {
      "id": "756336fc-e265-41ac-a37b-28563a9d67f9",
      "cell_type": "code",
      "execution_count": 4,
      "outputs": [],
      "source": [
        "from countryguess.data import poly_to_img"
      ],
      "metadata": {}
    },
    {
      "id": "2e8a4505-311d-4c9d-9aae-1264b45e63c6",
      "cell_type": "code",
      "execution_count": 24,
      "outputs": [
        {
          "output_type": "display_data",
          "data": {
            "text/plain": [
              "<Figure size 1000x500 with 2 Axes>"
            ],
            "image/png": "[encoded data removed]"
          },
          "metadata": {}
        }
      ],
      "source": [
        "idx = random.randint(0, len(val_data) - 1)\n",
        "sample = val_data[idx]\n",
        "\n",
        "# Plotting\n",
        "fig, axs = plt.subplots(1, 2, figsize=(10, 5))\n",
        "fig.patch.set_facecolor(\"black\")\n",
        "axs[0].imshow(sample[\"drawing\"], interpolation=\"nearest\", origin=\"lower\", cmap=\"copper\")\n",
        "axs[0].set_title(f\"Generated drawing of {sample['country_name']}\", color=\"white\")\n",
        "\n",
        "img = poly_to_img(ref_data.from_country_name(sample[\"country_name\"]), ref_data.shape)\n",
        "axs[1].imshow(img, interpolation=\"nearest\", origin=\"lower\", cmap=\"copper\")\n",
        "axs[1].set_title(\"Reference shape\", color=\"white\")\n",
        "for ax in axs:\n",
        "    ax.axis(\"off\")\n",
        "plt.show()"
      ],
      "metadata": {}
    },
    {
      "id": "d28408d3-8664-41a4-a188-7f6d097135ac",
      "cell_type": "markdown",
      "source": [
        "#### Test set (user drawings)"
      ],
      "metadata": {},
      "attachments": {}
    },
    {
      "id": "26cede23-d102-4c85-92e9-36a3d86fbd96",
      "cell_type": "code",
      "execution_count": 18,
      "outputs": [
        {
          "output_type": "display_data",
          "data": {
            "text/plain": [
              "<Figure size 1000x500 with 2 Axes>"
            ],
            "image/png": "[encoded data removed]"
          },
          "metadata": {}
        }
      ],
      "source": [
        "idx = random.randint(0, len(test_data) - 1)\n",
        "sample = test_data[idx]\n",
        "\n",
        "# Plotting\n",
        "fig, axs = plt.subplots(1, 2, figsize=(10, 5))\n",
        "fig.patch.set_facecolor(\"black\")\n",
        "axs[0].imshow(sample[\"drawing\"], interpolation=\"nearest\", origin=\"lower\", cmap=\"copper\")\n",
        "axs[0].set_title(f\"User drawing of {sample['country_name']}\", color=\"white\")\n",
        "\n",
        "img = poly_to_img(ref_data.from_country_name(sample[\"country_name\"]), ref_data.shape)\n",
        "axs[1].imshow(img, interpolation=\"nearest\", origin=\"lower\", cmap=\"copper\")\n",
        "axs[1].set_title(\"Reference shape\", color=\"white\")\n",
        "for ax in axs:\n",
        "    ax.axis(\"off\")\n",
        "plt.show()"
      ],
      "metadata": {}
    },
    {
      "id": "9f9a92f9-94d5-47e6-96cf-0b3204de7cc8",
      "cell_type": "markdown",
      "source": [
        "## Training model"
      ],
      "metadata": {},
      "attachments": {}
    },
    {
      "id": "2a53e527-b665-4f92-8aca-9d2105e8d47e",
      "cell_type": "markdown",
      "source": [
        "Run the following command to start the MLFlow Tracking UI: `mlflow ui --port 5001`\n",
        "<br>Access the MLFlow Tracking UI at: http://127.0.0.1:5001"
      ],
      "metadata": {},
      "attachments": {}
    },
    {
      "id": "1ca47d8f-c21c-4960-992c-bc60bd0d3367",
      "cell_type": "code",
      "execution_count": null,
      "outputs": [],
      "source": [
        "device = torch.device(\"mps\")"
      ],
      "metadata": {}
    },
    {
      "id": "0ec7e5cb-4128-4b1b-aed1-0a176616c593",
      "cell_type": "code",
      "execution_count": null,
      "outputs": [],
      "source": [
        "mlflow.set_experiment(\"local\")\n",
        "\n",
        "params = {\n",
        "    \"channels\": 12, #4 * random.randint(2, 6),\n",
        "    \"nr_conv_blocks\": 4, #random.randint(2, 5),\n",
        "    \"embedding_size\": 768, #128 * random.randint(1, 8),\n",
        "    \"shape\": 96, #32 * random.randint(1, 4),\n",
        "    \"learning_rate\": random.uniform(0.006, 0.012),\n",
        "    \"margin\": 0.8, #random.uniform(0.3, 1.2),\n",
        "    \"temperature\": 0.6, #random.uniform(0.4, 1.1),\n",
        "    \"nr_epochs\": 48, #random.randint(15, 75),\n",
        "}\n",
        "\n",
        "# model = TripletModel(CustomEmbeddingModel(**params).to(device)).to(device)\n",
        "model = TripletModel(CustomEmbeddingModel(**params)).to(device)\n",
        "params[\"embedding_model\"] = model.embedding_model.__class__.__name__\n",
        "\n",
        "optimizer = torch.optim.SGD(model.parameters(), lr=params[\"learning_rate\"])\n",
        "triplet_loss = nn.TripletMarginLoss(margin=params[\"margin\"])\n",
        "\n",
        "print(\"\\n\".join(f\"{key}: {round(value, 4)}\" for key, value in params.items()))"
      ],
      "metadata": {}
    },
    {
      "id": "0814214d-5479-4d10-b168-cc5043b124fb",
      "cell_type": "code",
      "execution_count": null,
      "outputs": [],
      "source": [
        "# Initialise datasets\n",
        "ref_data = Dataset(shape=(params[\"shape\"], params[\"shape\"]))\n",
        "train_data = TripletDataset(shape=(params[\"shape\"], params[\"shape\"]), temp=params[\"temperature\"])\n",
        "val_data = ValDataset(shape=(params[\"shape\"], params[\"shape\"]), temp=params[\"temperature\"])\n",
        "\n",
        "# Initialise dataloaders\n",
        "train_dl = DataLoader(train_data, batch_size=24, shuffle=True, num_workers=2)\n",
        "val_dl = DataLoader(val_data, batch_size=24, num_workers=2)"
      ],
      "metadata": {}
    },
    {
      "id": "0b29b14b-8d99-47f2-a204-3fe756114e01",
      "cell_type": "code",
      "execution_count": null,
      "outputs": [],
      "source": [
        "with mlflow.start_run() as run:\n",
        "    mlflow.log_params(params)\n",
        "\n",
        "    # Start training\n",
        "    for epoch in range(params[\"nr_epochs\"]):\n",
        "        loss = train(model, train_dl, triplet_loss, optimizer)\n",
        "        mlflow.log_metric(\"loss\", loss, epoch)\n",
        "        print(\n",
        "            \"Epoch: {}/{}\\t loss: {:.3f}\".format(epoch + 1, params[\"nr_epochs\"], loss)\n",
        "        )\n",
        "\n",
        "        if (epoch + 1) % 5 == 0:\n",
        "            _, ranking = evaluate(model, val_dl, ref_data)\n",
        "\n",
        "            mlflow.log_metric(\"val_avg_rank\", np.mean(ranking) + 1, epoch)\n",
        "            mlflow.log_metric(\"val_top_10_acc\", np.mean(ranking < 10), epoch)\n",
        "            mlflow.log_metric(\"val_top_1_acc\", np.mean(ranking < 1), epoch)\n",
        "\n",
        "            print(\n",
        "                \"Epoch: {}/{}\\t Average rank: {:.2f}\\t top 10 acc: {:.1f}%\\t top 1 acc: {:.1f}%\\t\".format(\n",
        "                    epoch + 1,\n",
        "                    params[\"nr_epochs\"],\n",
        "                    np.mean(ranking) + 1,\n",
        "                    100 * np.mean(ranking < 10),\n",
        "                    100 * np.mean(ranking < 1),\n",
        "                )\n",
        "            )"
      ],
      "metadata": {}
    },
    {
      "id": "5b7ca7c7-af20-4fd6-ac8e-1296d46b2a39",
      "cell_type": "markdown",
      "source": [
        "### Evaluate model"
      ],
      "metadata": {},
      "attachments": {}
    },
    {
      "id": "090be18d-5ddd-4a74-b71a-158e776c3222",
      "cell_type": "code",
      "execution_count": null,
      "outputs": [],
      "source": [
        "test_data = TestDataset(shape=(params[\"shape\"], params[\"shape\"]))\n",
        "test_dl = DataLoader(test_data, batch_size=32)"
      ],
      "metadata": {}
    },
    {
      "id": "1ca1caa4-903b-4d70-8941-27651445e2ff",
      "cell_type": "code",
      "execution_count": null,
      "outputs": [],
      "source": [
        "country_names, ranking = evaluate(model, test_dl, ref_data)\n",
        "\n",
        "with mlflow.start_run(run_id=run.info.run_id):\n",
        "    mlflow.log_metric(\"nr_test_samples\", len(test_data))\n",
        "    mlflow.log_metric(\"test_avg_rank\", np.mean(ranking) + 1)\n",
        "    mlflow.log_metric(\"test_top_10_acc\", np.mean(ranking < 10))\n",
        "    mlflow.log_metric(\"test_top_1_acc\", np.mean(ranking < 1))"
      ],
      "metadata": {}
    },
    {
      "id": "47536ad6-75a9-4a34-a6e4-4339d461aaad",
      "cell_type": "code",
      "execution_count": null,
      "outputs": [],
      "source": [
        "print(\"Average rank: {:.2f}\\t top 10 acc: {:.1f}%\\t top 1 acc: {:.1f}%\\t\"\n",
        "      .format(np.mean(ranking) + 1, 100 * np.mean(ranking < 10), 100 * np.mean(ranking < 1)))"
      ],
      "metadata": {}
    },
    {
      "id": "5c5381a0-7560-4199-a119-80dced8902f1",
      "cell_type": "code",
      "execution_count": null,
      "outputs": [],
      "source": [
        "# Sort the data based on ranking\n",
        "sorted_data = sorted(zip(country_names, ranking), key=lambda x: x[1])\n",
        "sorted_country_names, sorted_ranking = zip(*sorted_data)\n",
        "\n",
        "# Plot the sorted horizontal bar chart\n",
        "fig = plt.figure(figsize=(10, 12))  # Adjust figure size for vertical space\n",
        "plt.barh(sorted_country_names, sorted_ranking, color='skyblue', edgecolor='black')\n",
        "plt.gca().invert_yaxis()  # Invert y-axis to have the lowest rank at the top\n",
        "\n",
        "# Add labels and title\n",
        "plt.xlabel(\"Rank\", fontsize=12)\n",
        "plt.ylabel(\"Countries\", fontsize=12)\n",
        "plt.title(\"Countries Sorted by Rank\", fontsize=14)\n",
        "plt.xlim(0, 10)  # Ensure the x-axis matches the rank range\n",
        "plt.grid(axis='x', linestyle='--', alpha=0.7)  # Add gridlines along the rank axis\n",
        "\n",
        "# Show the improved plot\n",
        "plt.tight_layout()\n",
        "plt.show()"
      ],
      "metadata": {}
    },
    {
      "id": "05e7a583-d103-4ce9-92be-8f680428d113",
      "cell_type": "code",
      "execution_count": null,
      "outputs": [],
      "source": [
        "fig = plt.figure(figsize = (14, 6))\n",
        "plt.bar(country_names, ranking)\n",
        "plt.xticks(rotation=90)\n",
        "plt.ylim((0, 10))\n",
        "plt.ylabel(\"Rank\")\n",
        "plt.show()"
      ],
      "metadata": {}
    },
    {
      "id": "b343f77e-e9cc-498e-983a-2e8b2c9d9b99",
      "cell_type": "markdown",
      "source": [
        "### Log model"
      ],
      "metadata": {},
      "attachments": {}
    },
    {
      "id": "ca86bd4a-e9e7-4065-acb2-613621c16ed7",
      "cell_type": "code",
      "execution_count": null,
      "outputs": [],
      "source": [
        "with mlflow.start_run(run_id=run.info.run_id):\n",
        "    mlflow.pytorch.log_model(model, \"model\")"
      ],
      "metadata": {}
    },
    {
      "id": "b92154b4-30c3-4bec-b20e-f4b20a258cf9",
      "cell_type": "markdown",
      "source": [
        "Make sure to set promote your desired model to the Model Registry using the MLFlow UI. The model with the champion alias will be used by the ML server.  You can set the name of the model within the docker-compose.yml file or by setting the environment variable MODEL_NAME if you run the app locally."
      ],
      "metadata": {},
      "attachments": {}
    },
    {
      "id": "b0db90f7-30f8-42c5-ada8-27137e7a95c3",
      "cell_type": "markdown",
      "source": [
        "### Error Analysis\n",
        "Let's look at the countries for which the model struggles. "
      ],
      "metadata": {},
      "attachments": {}
    },
    {
      "id": "03c810be-fb7e-4093-ad47-2f81324ac6f0",
      "cell_type": "code",
      "execution_count": null,
      "outputs": [],
      "source": [
        "print(\"Rank\\tCountry\")\n",
        "for country, rank, in zip(country_names, ranking):\n",
        "    if rank > 0:\n",
        "        print(f\"{int(rank+1)}\\t{country}\")"
      ],
      "metadata": {}
    }
  ],
  "metadata": {
    "kernelspec": {
      "name": "countryguess",
      "display_name": "countryguess",
      "language": "python"
    },
    "language_info": {
      "name": "python",
      "codemirror_mode": {
        "name": "ipython",
        "version": 3
      },
      "file_extension": ".py",
      "mimetype": "text/x-python",
      "pygments_lexer": "ipython3"
    }
  },
  "nbformat": 4,
  "nbformat_minor": 5
}