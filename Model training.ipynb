{
  "cells": [
    {
      "id": "5501bdc2-3d95-4c1e-bdb2-c66c10440f8c",
      "cell_type": "markdown",
      "source": [
        "# Model training\n",
        "In this notebook a model is created, trained and evaluated on the test set.\n",
        "<br>MLFlow is used to track the experiments and push a model to production."
      ],
      "metadata": {},
      "attachments": {}
    },
    {
      "id": "8af7355e-c8ce-487b-9098-09201cd66659",
      "cell_type": "code",
      "execution_count": 1,
      "outputs": [],
      "source": [
        "# Imports\n",
        "import numpy as np\n",
        "import matplotlib.pyplot as plt\n",
        "import random\n",
        "from torch.utils.data import DataLoader\n",
        "import torch\n",
        "import torch.nn as nn\n",
        "import mlflow\n",
        "\n",
        "from countryguess.data import Dataset, TestDataset\n",
        "from countryguess.model import CustomEmbeddingModel, TripletModel\n",
        "from countryguess.generate import TripletDataset, ValDataset\n",
        "from countryguess.training import train, evaluate\n",
        "from countryguess.plotting import plot_sample, plot_training_sample"
      ],
      "metadata": {}
    },
    {
      "id": "6886d84c-b2dc-4e13-9f71-9f92e4d224a5",
      "cell_type": "markdown",
      "source": [
        "## Plotting datasets"
      ],
      "metadata": {},
      "attachments": {}
    },
    {
      "id": "7cd632e2-dfd2-4503-a720-bdaf0c7d3cd5",
      "cell_type": "markdown",
      "source": [
        "### Initialise datasets"
      ],
      "metadata": {},
      "attachments": {}
    },
    {
      "id": "f1255a4b-4137-4af4-8ce0-2b299277a01f",
      "cell_type": "code",
      "execution_count": 2,
      "outputs": [
        {
          "output_type": "stream",
          "name": "stderr",
          "text": [
            "INFO:countryguess.data:Loaded 197 samples from ./data/reference/\n"
          ]
        },
        {
          "output_type": "stream",
          "name": "stderr",
          "text": [
            "INFO:countryguess.data:Loaded 70 samples from ./data/drawings/\n"
          ]
        }
      ],
      "source": [
        "shape=(160, 160)\n",
        "ref_data = Dataset(shape=shape)\n",
        "train_data = TripletDataset(shape=shape, temp=0.9)\n",
        "val_data = ValDataset(shape=shape, temp=0.9)\n",
        "test_data = TestDataset(shape=shape)"
      ],
      "metadata": {}
    },
    {
      "id": "a8d95ec8-5497-461e-9a2a-e21f787c06e6",
      "cell_type": "code",
      "execution_count": 3,
      "outputs": [
        {
          "output_type": "execute_result",
          "execution_count": 3,
          "data": {
            "text/plain": [
              "      country_name                                           geometry  \\\n",
              "0           Mexico  MULTIPOLYGON (((-10884471.46075 2543739.00581,...   \n",
              "1          Somalia  MULTIPOLYGON (((4683643.23756 465298.67533, 46...   \n",
              "2      Ivory Coast  MULTIPOLYGON (((-592194.39036 578601.43985, -5...   \n",
              "3        Indonesia  MULTIPOLYGON (((10617673.95862 650959.33713, 1...   \n",
              "4        St. Lucia  MULTIPOLYGON (((-6785449.19032 1540902.73704, ...   \n",
              "..             ...                                                ...   \n",
              "192        Namibia  MULTIPOLYGON (((1616898.36298 -2594821.48685, ...   \n",
              "193       Paraguay  MULTIPOLYGON (((-6420092.08533 -2911936.2775, ...   \n",
              "194  Western Samoa  MULTIPOLYGON (((-19213354.11221 -1517957.7814,...   \n",
              "195         Guinea  MULTIPOLYGON (((-1400854.41065 1077301.26117, ...   \n",
              "196         Latvia  MULTIPOLYGON (((2345346.63973 7645613.85309, 2...   \n",
              "\n",
              "                                          geom_160_160  \n",
              "0    MULTIPOLYGON (((103.62016 70.97253, 103.59648 ...  \n",
              "1    MULTIPOLYGON (((33.16225 68.46333, 33.43973 68...  \n",
              "2    MULTIPOLYGON (((85.49792 22.52933, 85.90393 22...  \n",
              "3    MULTIPOLYGON (((2.57651 108.55911, 2.57859 108...  \n",
              "4    MULTIPOLYGON (((89.12487 2, 88.59903 4.16506, ...  \n",
              "..                                                 ...  \n",
              "192  MULTIPOLYGON (((34.33819 84.99821, 34.3676 85....  \n",
              "193  MULTIPOLYGON (((93.30139 46.12553, 92.71974 46...  \n",
              "194  MULTIPOLYGON (((23.19519 109.72097, 28.34068 1...  \n",
              "195  MULTIPOLYGON (((54.43946 73.27892, 53.75523 72...  \n",
              "196  MULTIPOLYGON (((4.14663 61.91684, 3.91408 64.8...  \n",
              "\n",
              "[197 rows x 3 columns]"
            ],
            "text/html": [
              "<div>\n",
              "<style scoped>\n",
              "    .dataframe tbody tr th:only-of-type {\n",
              "        vertical-align: middle;\n",
              "    }\n",
              "\n",
              "    .dataframe tbody tr th {\n",
              "        vertical-align: top;\n",
              "    }\n",
              "\n",
              "    .dataframe thead th {\n",
              "        text-align: right;\n",
              "    }\n",
              "</style>\n",
              "<table border=\"1\" class=\"dataframe\">\n",
              "  <thead>\n",
              "    <tr style=\"text-align: right;\">\n",
              "      <th></th>\n",
              "      <th>country_name</th>\n",
              "      <th>geometry</th>\n",
              "      <th>geom_160_160</th>\n",
              "    </tr>\n",
              "  </thead>\n",
              "  <tbody>\n",
              "    <tr>\n",
              "      <th>0</th>\n",
              "      <td>Mexico</td>\n",
              "      <td>MULTIPOLYGON (((-10884471.46075 2543739.00581,...</td>\n",
              "      <td>MULTIPOLYGON (((103.62016 70.97253, 103.59648 ...</td>\n",
              "    </tr>\n",
              "    <tr>\n",
              "      <th>1</th>\n",
              "      <td>Somalia</td>\n",
              "      <td>MULTIPOLYGON (((4683643.23756 465298.67533, 46...</td>\n",
              "      <td>MULTIPOLYGON (((33.16225 68.46333, 33.43973 68...</td>\n",
              "    </tr>\n",
              "    <tr>\n",
              "      <th>2</th>\n",
              "      <td>Ivory Coast</td>\n",
              "      <td>MULTIPOLYGON (((-592194.39036 578601.43985, -5...</td>\n",
              "      <td>MULTIPOLYGON (((85.49792 22.52933, 85.90393 22...</td>\n",
              "    </tr>\n",
              "    <tr>\n",
              "      <th>3</th>\n",
              "      <td>Indonesia</td>\n",
              "      <td>MULTIPOLYGON (((10617673.95862 650959.33713, 1...</td>\n",
              "      <td>MULTIPOLYGON (((2.57651 108.55911, 2.57859 108...</td>\n",
              "    </tr>\n",
              "    <tr>\n",
              "      <th>4</th>\n",
              "      <td>St. Lucia</td>\n",
              "      <td>MULTIPOLYGON (((-6785449.19032 1540902.73704, ...</td>\n",
              "      <td>MULTIPOLYGON (((89.12487 2, 88.59903 4.16506, ...</td>\n",
              "    </tr>\n",
              "    <tr>\n",
              "      <th>...</th>\n",
              "      <td>...</td>\n",
              "      <td>...</td>\n",
              "      <td>...</td>\n",
              "    </tr>\n",
              "    <tr>\n",
              "      <th>192</th>\n",
              "      <td>Namibia</td>\n",
              "      <td>MULTIPOLYGON (((1616898.36298 -2594821.48685, ...</td>\n",
              "      <td>MULTIPOLYGON (((34.33819 84.99821, 34.3676 85....</td>\n",
              "    </tr>\n",
              "    <tr>\n",
              "      <th>193</th>\n",
              "      <td>Paraguay</td>\n",
              "      <td>MULTIPOLYGON (((-6420092.08533 -2911936.2775, ...</td>\n",
              "      <td>MULTIPOLYGON (((93.30139 46.12553, 92.71974 46...</td>\n",
              "    </tr>\n",
              "    <tr>\n",
              "      <th>194</th>\n",
              "      <td>Western Samoa</td>\n",
              "      <td>MULTIPOLYGON (((-19213354.11221 -1517957.7814,...</td>\n",
              "      <td>MULTIPOLYGON (((23.19519 109.72097, 28.34068 1...</td>\n",
              "    </tr>\n",
              "    <tr>\n",
              "      <th>195</th>\n",
              "      <td>Guinea</td>\n",
              "      <td>MULTIPOLYGON (((-1400854.41065 1077301.26117, ...</td>\n",
              "      <td>MULTIPOLYGON (((54.43946 73.27892, 53.75523 72...</td>\n",
              "    </tr>\n",
              "    <tr>\n",
              "      <th>196</th>\n",
              "      <td>Latvia</td>\n",
              "      <td>MULTIPOLYGON (((2345346.63973 7645613.85309, 2...</td>\n",
              "      <td>MULTIPOLYGON (((4.14663 61.91684, 3.91408 64.8...</td>\n",
              "    </tr>\n",
              "  </tbody>\n",
              "</table>\n",
              "<p>197 rows × 3 columns</p>\n",
              "</div>"
            ]
          },
          "metadata": {}
        }
      ],
      "source": [
        "ref_data.gdf"
      ],
      "metadata": {}
    },
    {
      "id": "b83c251b-2868-4ebf-a335-42c260f3617c",
      "cell_type": "markdown",
      "source": [
        "### Plotting"
      ],
      "metadata": {},
      "attachments": {}
    },
    {
      "id": "a5e89173-4adb-4394-96d0-5b668f0e827d",
      "cell_type": "markdown",
      "source": [
        "#### Training data"
      ],
      "metadata": {},
      "attachments": {}
    },
    {
      "id": "3095ed6c-dc52-46fe-8260-c8dc4ce2c36a",
      "cell_type": "code",
      "execution_count": 4,
      "outputs": [
        {
          "output_type": "display_data",
          "data": {
            "text/plain": [
              "<Figure size 1000x500 with 3 Axes>"
            ],
            "image/png": "[encoded data removed]"
          },
          "metadata": {}
        }
      ],
      "source": [
        "plot_training_sample(train_data)"
      ],
      "metadata": {}
    },
    {
      "id": "0e8342a1-de6d-472e-8554-543a9f4fd856",
      "cell_type": "markdown",
      "source": [
        "#### Validation set"
      ],
      "metadata": {},
      "attachments": {}
    },
    {
      "id": "a7bfaf74-8dce-4ff6-97a6-6bfef19f995c",
      "cell_type": "code",
      "execution_count": 5,
      "outputs": [
        {
          "output_type": "display_data",
          "data": {
            "text/plain": [
              "<Figure size 1000x500 with 2 Axes>"
            ],
            "image/png": "[encoded data removed]"
          },
          "metadata": {}
        }
      ],
      "source": [
        "plot_sample(val_data, ref_data)"
      ],
      "metadata": {}
    },
    {
      "id": "d28408d3-8664-41a4-a188-7f6d097135ac",
      "cell_type": "markdown",
      "source": [
        "#### Test set (user drawings)"
      ],
      "metadata": {},
      "attachments": {}
    },
    {
      "id": "08ccc6cb-7bb1-44a7-a121-2c80ecfdf8ca",
      "cell_type": "code",
      "execution_count": 6,
      "outputs": [
        {
          "output_type": "display_data",
          "data": {
            "text/plain": [
              "<Figure size 1000x500 with 2 Axes>"
            ],
            "image/png": "[encoded data removed]"
          },
          "metadata": {}
        }
      ],
      "source": [
        "plot_sample(test_data, ref_data)"
      ],
      "metadata": {}
    },
    {
      "id": "9f9a92f9-94d5-47e6-96cf-0b3204de7cc8",
      "cell_type": "markdown",
      "source": [
        "## Training model"
      ],
      "metadata": {},
      "attachments": {}
    },
    {
      "id": "2a53e527-b665-4f92-8aca-9d2105e8d47e",
      "cell_type": "markdown",
      "source": [
        "Run the following command to start the MLFlow Tracking UI: `mlflow ui --port 5001`\n",
        "<br>Access the MLFlow Tracking UI at: http://127.0.0.1:5001"
      ],
      "metadata": {},
      "attachments": {}
    },
    {
      "id": "1ca47d8f-c21c-4960-992c-bc60bd0d3367",
      "cell_type": "code",
      "execution_count": null,
      "outputs": [],
      "source": [
        "device = torch.device(\"mps\")"
      ],
      "metadata": {}
    },
    {
      "id": "0ec7e5cb-4128-4b1b-aed1-0a176616c593",
      "cell_type": "code",
      "execution_count": null,
      "outputs": [],
      "source": [
        "mlflow.set_experiment(\"local\")\n",
        "\n",
        "params = {\n",
        "    \"channels\": 12, #4 * random.randint(2, 6),\n",
        "    \"nr_conv_blocks\": 4, #random.randint(2, 5),\n",
        "    \"embedding_size\": 768, #128 * random.randint(1, 8),\n",
        "    \"shape\": 96, #32 * random.randint(1, 4),\n",
        "    \"learning_rate\": random.uniform(0.006, 0.012),\n",
        "    \"margin\": 0.8, #random.uniform(0.3, 1.2),\n",
        "    \"temperature\": 0.6, #random.uniform(0.4, 1.1),\n",
        "    \"nr_epochs\": 48, #random.randint(15, 75),\n",
        "}\n",
        "\n",
        "model = TripletModel(CustomEmbeddingModel(**params)).to(device)\n",
        "params[\"embedding_model\"] = model.embedding_model.__class__.__name__\n",
        "\n",
        "optimizer = torch.optim.SGD(model.parameters(), lr=params[\"learning_rate\"])\n",
        "triplet_loss = nn.TripletMarginLoss(margin=params[\"margin\"])\n",
        "\n",
        "print(\"\\n\".join(f\"{key}: {value}\" for key, value in params.items()))"
      ],
      "metadata": {}
    },
    {
      "id": "0814214d-5479-4d10-b168-cc5043b124fb",
      "cell_type": "code",
      "execution_count": null,
      "outputs": [],
      "source": [
        "# Initialise datasets\n",
        "ref_data = Dataset(shape=(params[\"shape\"], params[\"shape\"]))\n",
        "train_data = TripletDataset(shape=(params[\"shape\"], params[\"shape\"]), temp=params[\"temperature\"])\n",
        "val_data = ValDataset(shape=(params[\"shape\"], params[\"shape\"]), temp=params[\"temperature\"])\n",
        "\n",
        "# Initialise dataloaders\n",
        "train_dl = DataLoader(train_data, batch_size=24, shuffle=True, num_workers=2)\n",
        "val_dl = DataLoader(val_data, batch_size=24, num_workers=2)"
      ],
      "metadata": {}
    },
    {
      "id": "0b29b14b-8d99-47f2-a204-3fe756114e01",
      "cell_type": "code",
      "execution_count": null,
      "outputs": [],
      "source": [
        "with mlflow.start_run() as run:\n",
        "    mlflow.log_params(params)\n",
        "\n",
        "    # Start training\n",
        "    for epoch in range(params[\"nr_epochs\"]):\n",
        "        loss = train(model, train_dl, triplet_loss, optimizer)\n",
        "        mlflow.log_metric(\"loss\", loss, epoch)\n",
        "        print(\n",
        "            \"Epoch: {}/{}\\t loss: {:.3f}\".format(epoch + 1, params[\"nr_epochs\"], loss)\n",
        "        )\n",
        "\n",
        "        if (epoch + 1) % 5 == 0:\n",
        "            _, ranking = evaluate(model, val_dl, ref_data)\n",
        "\n",
        "            mlflow.log_metric(\"val_avg_rank\", np.mean(ranking) + 1, epoch)\n",
        "            mlflow.log_metric(\"val_top_10_acc\", np.mean(ranking < 10), epoch)\n",
        "            mlflow.log_metric(\"val_top_1_acc\", np.mean(ranking < 1), epoch)\n",
        "\n",
        "            print(\n",
        "                \"Epoch: {}/{}\\t Average rank: {:.2f}\\t top 10 acc: {:.1f}%\\t top 1 acc: {:.1f}%\\t\".format(\n",
        "                    epoch + 1,\n",
        "                    params[\"nr_epochs\"],\n",
        "                    np.mean(ranking) + 1,\n",
        "                    100 * np.mean(ranking < 10),\n",
        "                    100 * np.mean(ranking < 1),\n",
        "                )\n",
        "            )"
      ],
      "metadata": {}
    },
    {
      "id": "5b7ca7c7-af20-4fd6-ac8e-1296d46b2a39",
      "cell_type": "markdown",
      "source": [
        "### Evaluate model"
      ],
      "metadata": {},
      "attachments": {}
    },
    {
      "id": "090be18d-5ddd-4a74-b71a-158e776c3222",
      "cell_type": "code",
      "execution_count": null,
      "outputs": [],
      "source": [
        "test_data = TestDataset(shape=(params[\"shape\"], params[\"shape\"]))\n",
        "test_dl = DataLoader(test_data, batch_size=32)"
      ],
      "metadata": {}
    },
    {
      "id": "1ca1caa4-903b-4d70-8941-27651445e2ff",
      "cell_type": "code",
      "execution_count": null,
      "outputs": [],
      "source": [
        "country_names, ranking = evaluate(model, test_dl, ref_data)\n",
        "\n",
        "with mlflow.start_run(run_id=run.info.run_id):\n",
        "    mlflow.log_metric(\"nr_test_samples\", len(test_data))\n",
        "    mlflow.log_metric(\"test_avg_rank\", np.mean(ranking) + 1)\n",
        "    mlflow.log_metric(\"test_top_10_acc\", np.mean(ranking < 10))\n",
        "    mlflow.log_metric(\"test_top_1_acc\", np.mean(ranking < 1))"
      ],
      "metadata": {}
    },
    {
      "id": "47536ad6-75a9-4a34-a6e4-4339d461aaad",
      "cell_type": "code",
      "execution_count": null,
      "outputs": [],
      "source": [
        "print(\"Average rank: {:.2f}\\t top 10 acc: {:.1f}%\\t top 1 acc: {:.1f}%\\t\"\n",
        "      .format(np.mean(ranking) + 1, 100 * np.mean(ranking < 10), 100 * np.mean(ranking < 1)))"
      ],
      "metadata": {}
    },
    {
      "id": "5c5381a0-7560-4199-a119-80dced8902f1",
      "cell_type": "code",
      "execution_count": null,
      "outputs": [],
      "source": [
        "# Sort the data based on ranking\n",
        "sorted_data = sorted(zip(country_names, ranking), key=lambda x: x[1])\n",
        "sorted_country_names, sorted_ranking = zip(*sorted_data)\n",
        "\n",
        "# Plot the sorted horizontal bar chart\n",
        "fig = plt.figure(figsize=(10, 12))  # Adjust figure size for vertical space\n",
        "plt.barh(sorted_country_names, sorted_ranking, color='skyblue', edgecolor='black')\n",
        "plt.gca().invert_yaxis()  # Invert y-axis to have the lowest rank at the top\n",
        "\n",
        "# Add labels and title\n",
        "plt.xlabel(\"Rank\", fontsize=12)\n",
        "plt.ylabel(\"Countries\", fontsize=12)\n",
        "plt.title(\"Countries Sorted by Rank\", fontsize=14)\n",
        "plt.xlim(0, 10)  # Ensure the x-axis matches the rank range\n",
        "plt.grid(axis='x', linestyle='--', alpha=0.7)  # Add gridlines along the rank axis\n",
        "\n",
        "# Show the improved plot\n",
        "plt.tight_layout()\n",
        "plt.show()"
      ],
      "metadata": {}
    },
    {
      "id": "b343f77e-e9cc-498e-983a-2e8b2c9d9b99",
      "cell_type": "markdown",
      "source": [
        "### Log model"
      ],
      "metadata": {},
      "attachments": {}
    },
    {
      "id": "ca86bd4a-e9e7-4065-acb2-613621c16ed7",
      "cell_type": "code",
      "execution_count": null,
      "outputs": [],
      "source": [
        "with mlflow.start_run(run_id=run.info.run_id):\n",
        "    mlflow.pytorch.log_model(model, \"model\")"
      ],
      "metadata": {}
    },
    {
      "id": "b92154b4-30c3-4bec-b20e-f4b20a258cf9",
      "cell_type": "markdown",
      "source": [
        "Make sure to set promote your desired model to the Model Registry using the MLFlow UI. The model with the champion alias will be used by the ML server.  You can set the name of the model within the docker-compose.yml file or by setting the environment variable MODEL_NAME if you run the app locally."
      ],
      "metadata": {},
      "attachments": {}
    },
    {
      "id": "b0db90f7-30f8-42c5-ada8-27137e7a95c3",
      "cell_type": "markdown",
      "source": [
        "### Error Analysis\n",
        "Let's look at the countries for which the model struggles. "
      ],
      "metadata": {},
      "attachments": {}
    },
    {
      "id": "03c810be-fb7e-4093-ad47-2f81324ac6f0",
      "cell_type": "code",
      "execution_count": null,
      "outputs": [],
      "source": [
        "print(\"Rank\\tCountry\")\n",
        "for country, rank, in zip(country_names, ranking):\n",
        "    if rank > 0:\n",
        "        print(f\"{int(rank+1)}\\t{country}\")"
      ],
      "metadata": {}
    }
  ],
  "metadata": {
    "kernelspec": {
      "name": "countryguess",
      "display_name": "countryguess",
      "language": "python"
    },
    "language_info": {
      "name": "python",
      "codemirror_mode": {
        "name": "ipython",
        "version": 3
      },
      "file_extension": ".py",
      "mimetype": "text/x-python",
      "pygments_lexer": "ipython3"
    }
  },
  "nbformat": 4,
  "nbformat_minor": 5
}