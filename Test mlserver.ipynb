{
 "cells": [
  {
   "cell_type": "markdown",
   "id": "b9e07029-a195-46f1-8878-076072ca69e5",
   "metadata": {},
   "source": [
    "# Testing MLserver"
   ]
  },
  {
   "cell_type": "code",
   "execution_count": 160,
   "id": "c27b9e87-859a-4a9d-927e-39f02fa5062c",
   "metadata": {},
   "outputs": [],
   "source": [
    "#Imports\n",
    "import numpy as np\n",
    "import matplotlib.pyplot as plt\n",
    "import random\n",
    "import mlflow\n",
    "import requests\n",
    "from shapely import to_geojson\n",
    "\n",
    "from countryguess.data import Dataset, TestDataset, ValDataset, TripletDataset\n",
    "from countryguess.utils import poly_to_img, lines_to_img, normalize_geom"
   ]
  },
  {
   "cell_type": "markdown",
   "id": "7fecd487-fac0-4181-8cc4-d6822c26eb13",
   "metadata": {},
   "source": [
    "## Test data"
   ]
  },
  {
   "cell_type": "code",
   "execution_count": 144,
   "id": "6a71a32e-3eaa-4699-adeb-c2101b393a1a",
   "metadata": {},
   "outputs": [],
   "source": [
    "test_data = Dataset(path='./data/drawings.geojson')"
   ]
  },
  {
   "cell_type": "code",
   "execution_count": 157,
   "id": "e6bb5f6a-01ce-46a0-8f21-4d3704181385",
   "metadata": {},
   "outputs": [
    {
     "data": {
      "image/png": "[encoded data removed]",
      "text/plain": [
       "<Figure size 640x480 with 1 Axes>"
      ]
     },
     "metadata": {},
     "output_type": "display_data"
    }
   ],
   "source": [
    "idx = random.randint(0, len(test_data) - 1)\n",
    "drawing = test_data[idx]\n",
    "\n",
    "#Plotting\n",
    "plt.imshow(lines_to_img(drawing, shape=ref_data.shape), interpolation='nearest', origin='lower')\n",
    "plt.title(f\"Reference drawing of {test_data.country_name[idx]}\") \n",
    "plt.show()"
   ]
  },
  {
   "cell_type": "markdown",
   "id": "5ee09b81-ebb6-4fcc-8a5d-93fedc8d0bd6",
   "metadata": {},
   "source": [
    "## Send request to MLserver"
   ]
  },
  {
   "cell_type": "code",
   "execution_count": 147,
   "id": "ea1b5d16-b5e4-4313-9e21-57a2d63d6fd9",
   "metadata": {},
   "outputs": [],
   "source": [
    "url = \"http://localhost:5001/predict\""
   ]
  },
  {
   "cell_type": "code",
   "execution_count": 158,
   "id": "b83d86fb-8663-4619-ba81-d6c59310e765",
   "metadata": {},
   "outputs": [
    {
     "name": "stdout",
     "output_type": "stream",
     "text": [
      "<Response [200]>\n"
     ]
    }
   ],
   "source": [
    "response = requests.post(url, json=to_geojson(drawing))\n",
    "print(response)"
   ]
  },
  {
   "cell_type": "code",
   "execution_count": 159,
   "id": "75c2dc1c-cedf-419d-9ab8-cadc53879421",
   "metadata": {},
   "outputs": [
    {
     "name": "stdout",
     "output_type": "stream",
     "text": [
      "['Peru', 'Martinique', 'Estonia', 'Belgium', 'El Salvador', 'Paraguay', 'Kuwait', 'Egypt', 'Liberia', 'Bahamas, The', 'Iraq', 'Angola', 'Georgia', 'Armenia', 'Colombia', 'Myanmar (Burma)', 'Latvia', 'France', 'Guyana', 'Zaire', 'Netherlands Antilles', 'Spain', 'Mozambique', 'Kazakhstan', 'Bosnia and Herzegovina', 'South Korea', 'Jamaica', 'Australia', 'Tunisia', 'Bahrain', 'South Georgia and the South Sandwich Is', 'Algeria', 'Ireland', 'Iran', 'Benin', 'Heard Island & McDonald Islands', 'Uzbekistan', 'China', 'Dominica', 'Honduras', 'Somalia', 'Byelarus', 'Bhutan', 'Kyrgyzstan', 'Costa Rica', 'Mexico', 'Mongolia', 'West Bank', 'Turks and Caicos Islands', 'Croatia', 'Greenland', 'Finland', 'Panama', 'Nepal', 'Papua New Guinea', 'Svalbard', 'Djibouti', 'Nicaragua', 'Tanzania, United Republic of', 'Ghana', 'Luxembourg', 'Slovakia', 'Israel', 'Kenya', 'New Caledonia', 'Yemen', 'Guinea', 'Belize', 'Turkmenistan', 'Chile', 'Guatemala', 'Burkina Faso', 'Barbados', 'Brazil', 'Switzerland', 'Madagascar', 'Bangladesh', 'Uruguay', 'Hungary', 'Ukraine', 'Tajikistan', 'Malawi', 'Qatar', 'Burundi', 'Serbia', 'Turkey', 'Oman', 'Sri Lanka', 'Togo', 'Guadeloupe', 'Ivory Coast', 'St. Lucia', 'Afghanistan', 'United States of America', 'Argentina', 'Guinea-Bissau', 'Mauritania', 'Azerbaijan', 'United Kingdom', 'Cuba', 'Western Samoa', 'Western Sahara', 'Romania', 'Uganda', 'Cameroon', 'India', 'Ethiopia', 'Solomon Islands', 'Senegal', 'Central African Republic', 'Sweden', 'Swaziland', 'Zimbabwe', 'Dominican Republic', 'Namibia', 'Austria', 'Brunei', 'Lithuania', 'Libya', 'Portugal', 'Congo', 'Thailand', 'Puerto Rico', 'Germany', 'Jordan', 'Vanuatu', 'Moldova', 'Italy', 'French Guiana', 'Poland', 'Cape Verde', 'Pacific Islands (Palau)', 'Faroe Islands', 'Gabon', 'Slovenia', 'Kiribati', 'St. Pierre and Miquelon', 'Ecuador', 'Guam', 'Reunion', 'Czech Republic', 'United Arab Emirates', 'Russia', 'New Zealand', 'North Korea', 'Laos', 'Comoros', 'Iceland', 'Saudi Arabia', 'Antigua and Barbuda', 'Malaysia', 'Gambia, The', 'Virgin Islands', 'Lebanon', 'Syria', 'Montenegro', 'Cyprus', 'Suriname', 'Morocco', 'Eritrea', 'Lesotho', 'Rwanda', 'Bulgaria', 'Venezuela', 'Haiti', 'Man, Isle of', 'Mali', 'Albania', 'Pakistan', 'Sudan', 'Trinidad and Tobago', 'Botswana', 'Jan Mayen', 'Vietnam', 'Indonesia', 'Taiwan', 'Zambia', 'South Africa', 'Fiji', 'Niger', 'Sierra Leone', 'Nigeria', 'Equatorial Guinea', 'Bolivia', 'Chad', 'Denmark', 'Cambodia', 'Mauritius', 'Falkland Islands (Islas Malvinas)', 'Philippines', 'Norway', 'Greece', 'Macedonia', 'Netherlands', 'Japan', 'Sao Tome and Principe', 'Canada']\n"
     ]
    }
   ],
   "source": [
    "print(response.json())"
   ]
  },
  {
   "cell_type": "markdown",
   "id": "c299174e-fc61-47ab-ad48-b8a5524fdf19",
   "metadata": {},
   "source": [
    "## Compare to local model"
   ]
  },
  {
   "cell_type": "code",
   "execution_count": 150,
   "id": "f99e4e54-912e-41ab-a405-080321698d70",
   "metadata": {},
   "outputs": [],
   "source": [
    "model = mlflow.pytorch.load_model(f\"models:/triplet_model@Champion\")\n",
    "ref_data = Dataset(shape=model.shape)\n",
    "model.load_reference(ref_data)"
   ]
  },
  {
   "cell_type": "code",
   "execution_count": 151,
   "id": "4598fce1-35f9-4c41-bf36-6e32fee064a0",
   "metadata": {},
   "outputs": [
    {
     "name": "stdout",
     "output_type": "stream",
     "text": [
      "['Mauritania', 'Cameroon', 'Congo', 'Fiji', 'Burkina Faso', 'Oman', 'Madagascar', 'Pacific Islands (Palau)', 'Pakistan', 'North Korea', 'Mozambique', 'South Korea', 'Spain', 'Iraq', 'Norway', 'Kyrgyzstan', 'Guam', 'West Bank', 'St. Lucia', 'Hungary', 'Ghana', 'Argentina', 'Chile', 'Latvia', 'Yemen', 'Djibouti', 'Central African Republic', 'Estonia', 'Man, Isle of', 'Dominica', 'Jan Mayen', 'Swaziland', 'Nicaragua', 'New Zealand', 'Switzerland', 'Somalia', 'Zaire', 'Morocco', 'United Arab Emirates', 'Australia', 'Finland', 'Algeria', 'Kuwait', 'Byelarus', 'Israel', 'Benin', 'Peru', 'Bhutan', 'Slovakia', 'Guatemala', 'Mali', 'Kazakhstan', 'Qatar', 'Ireland', 'Honduras', 'Niger', 'Austria', 'Slovenia', 'Western Sahara', 'Cyprus', 'Thailand', 'Afghanistan', 'Sweden', 'Guyana', 'Bahrain', 'Romania', 'Guadeloupe', 'Sudan', 'Kenya', 'Rwanda', 'Uganda', 'South Africa', 'Netherlands Antilles', 'Myanmar (Burma)', 'Brunei', 'Tanzania, United Republic of', 'Colombia', 'Haiti', 'Angola', 'Reunion', 'Belize', 'Solomon Islands', 'Togo', 'Burundi', 'St. Pierre and Miquelon', 'Jordan', 'Ivory Coast', 'French Guiana', 'Western Samoa', 'Lebanon', 'Portugal', 'Virgin Islands', 'Germany', 'Egypt', 'Jamaica', 'Namibia', 'China', 'Luxembourg', 'Barbados', 'Lesotho', 'Syria', 'United Kingdom', 'Tunisia', 'Taiwan', 'Poland', 'Costa Rica', 'Chad', 'Vanuatu', 'Zambia', 'Mongolia', 'Libya', 'Gambia, The', 'Turks and Caicos Islands', 'Sri Lanka', 'Trinidad and Tobago', 'Montenegro', 'Gabon', 'Uruguay', 'Senegal', 'Albania', 'Equatorial Guinea', 'Suriname', 'El Salvador', 'Puerto Rico', 'Antigua and Barbuda', 'Papua New Guinea', 'Paraguay', 'Cuba', 'Guinea-Bissau', 'Zimbabwe', 'Ecuador', 'Armenia', 'France', 'Ethiopia', 'Cape Verde', 'Belgium', 'Cambodia', 'Mauritius', 'Malawi', 'Nepal', 'Malaysia', 'Bahamas, The', 'Botswana', 'Turkey', 'Sierra Leone', 'Japan', 'Uzbekistan', 'Dominican Republic', 'Nigeria', 'Sao Tome and Principe', 'Tajikistan', 'Greenland', 'Azerbaijan', 'Martinique', 'Faroe Islands', 'Moldova', 'New Caledonia', 'Guinea', 'Russia', 'Georgia', 'Bulgaria', 'Liberia', 'Iran', 'Brazil', 'Panama', 'Lithuania', 'United States of America', 'Italy', 'Svalbard', 'South Georgia and the South Sandwich Is', 'Bosnia and Herzegovina', 'Comoros', 'Serbia', 'Heard Island & McDonald Islands', 'Netherlands', 'India', 'Ukraine', 'Eritrea', 'Vietnam', 'Croatia', 'Kiribati', 'Mexico', 'Indonesia', 'Czech Republic', 'Falkland Islands (Islas Malvinas)', 'Bangladesh', 'Philippines', 'Iceland', 'Saudi Arabia', 'Laos', 'Macedonia', 'Bolivia', 'Canada', 'Turkmenistan', 'Denmark', 'Greece', 'Venezuela']\n"
     ]
    }
   ],
   "source": [
    "print(predict(model, drawing))"
   ]
  }
 ],
 "metadata": {
  "kernelspec": {
   "display_name": "Python 3 (ipykernel)",
   "language": "python",
   "name": "python3"
  },
  "language_info": {
   "codemirror_mode": {
    "name": "ipython",
    "version": 3
   },
   "file_extension": ".py",
   "mimetype": "text/x-python",
   "name": "python",
   "nbconvert_exporter": "python",
   "pygments_lexer": "ipython3",
   "version": "3.12.3"
  }
 },
 "nbformat": 4,
 "nbformat_minor": 5
}
